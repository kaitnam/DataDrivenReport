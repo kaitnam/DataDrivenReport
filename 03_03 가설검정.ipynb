{
 "cells": [
  {
   "cell_type": "markdown",
   "id": "0f43a0fb",
   "metadata": {},
   "source": [
    "## 가설검정\n",
    "- ### 귀무가설과 대립가설을 설정하고 수집한 데이터를 바탕으로 이 가설들을 검증하는 과정이다."
   ]
  },
  {
   "cell_type": "markdown",
   "id": "bad51eb0",
   "metadata": {},
   "source": [
    "### 예제)\n",
    "#### 당신은 다니던 직장을 그만두고 꿈에 그리던 치킨집 사장이 됐다. 그런데 생각보다 매출이 오르지 않아 정기적으로 유튜브, 인스타그램, 페이스북 등 <br/><br/>각 플랫폼에 광고 캠페인을 균등한 비율로 진행하고 있다. 하지만 광고에 투자하는 금액에 비해 치킨 판매량이 상승하는 것 같이 않다. 당신은 플랫폼별<br/><br/> 방문자 수의 차이가 궁금했다. 그래서 사용자의 유입 경로를 파악할 수 있는 어플리케이션을 사용하기 시작했다. 어플리케이션에서는 플랫폼별 일일 방문 <br/><br/>고객에 대한 수치를 확인할 수 있다."
   ]
  },
  {
   "cell_type": "markdown",
   "id": "65ba8126",
   "metadata": {},
   "source": [
    "- #### 귀무가설: 모든 플랫폼의 일일 평균 고객 차이가 없다.\n",
    "- #### 대립가설: 플랫폼 간의 일일 평균 고객 차이가 존재한다."
   ]
  },
  {
   "cell_type": "code",
   "execution_count": 2,
   "id": "fe32b67f",
   "metadata": {},
   "outputs": [],
   "source": [
    "import pandas as pd\n",
    "import warnings\n",
    "warnings.filterwarnings(\"ignore\")"
   ]
  },
  {
   "cell_type": "code",
   "execution_count": 3,
   "id": "f851c52b",
   "metadata": {},
   "outputs": [],
   "source": [
    "Youtube = [1913, 1879, 1939, 2146, 2040, 2127, 2122, 2156, 2036, 1974, 1956, 2146, 2151, 1943, 2125]\n",
    "Instagram = [2305., 2355., 2203., 2231., 2185., 2420., 2386., 2410., 2340., 2349., 2241., 2396., 2244., 2267., 2281.]\n",
    "Facebook = [2133., 2522., 2124., 2551., 2293., 2367., 2460., 2311., 2178., 2113., 2048., 2443., 2265., 2095., 2528.]"
   ]
  },
  {
   "cell_type": "markdown",
   "id": "bca39c2e",
   "metadata": {},
   "source": [
    "### 1) 분석 방법\n",
    "- #### 세 그룹의 평균에 유의미한 차이가 있는지 확인하기 위한 선행 조건은 <span style=\"color:blue\">데이터의 정규성 및 등분산 가정을 충족하는지 확인</span> 하는 것이다.\n",
    "- #### 정규성 가정은 데이터가 각 그룹 내에서 정상적으로 분표한다는 가정이고, 등분산 가정은 각 그룹의 데이터 분산(확산)이 동일하다는 가정이다.\n",
    "- #### 등분산 가정을 위반하면 결과가 편향될 수 있고 분석에서 도출된 결론이 정확하지 않을 수 있다.\n",
    "- #### 여기서 정규성 가정은 <span style=\"color:orange\">샤피로 윌크 검정</span>을 사용하고, 등분산 가정은 <span style=\"color:orange\">레빈 검정</span>을 사용한다. "
   ]
  },
  {
   "cell_type": "code",
   "execution_count": 5,
   "id": "a5a1f874",
   "metadata": {},
   "outputs": [
    {
     "name": "stdout",
     "output_type": "stream",
     "text": [
      "Normality Test(Shapiro) Results:\n",
      "Youtube group: Statistics=0.865, p=0.029\n",
      "Instagram group: Statistics=0.943, p=0.416\n",
      "Facebook group: Statistics=0.917, p=0.172\n",
      "\n",
      "Equal Variance Test Results:\n",
      "Statistics=7.887, p=0.001\n",
      "\n",
      "ANOVA Test Results:\n",
      "Statistics=21.282, p=0.000\n"
     ]
    }
   ],
   "source": [
    "from scipy.stats import shapiro, levene, f_oneway\n",
    "\n",
    "# 정규성 검정\n",
    "stat1, p1 = shapiro(Youtube)\n",
    "stat2, p2 = shapiro(Instagram)\n",
    "stat3, p3 = shapiro(Facebook)\n",
    "\n",
    "# 등분산성 검정\n",
    "stat, p = levene(Youtube, Instagram, Facebook)\n",
    "\n",
    "# print the results\n",
    "print(\"Normality Test(Shapiro) Results:\")\n",
    "print(\"Youtube group: Statistics=%.3f, p=%.3f\" % (stat1, p1))\n",
    "print(\"Instagram group: Statistics=%.3f, p=%.3f\" % (stat2, p2))\n",
    "print(\"Facebook group: Statistics=%.3f, p=%.3f\" % (stat3, p3))\n",
    "print(\"\\nEqual Variance Test Results:\")\n",
    "print(\"Statistics=%.3f, p=%.3f\" % (stat, p))\n",
    "\n",
    "# perform ANOVA test\n",
    "stat, p = f_oneway(Youtube, Instagram, Facebook)\n",
    "\n",
    "# print the results\n",
    "print(\"\\nANOVA Test Results:\")\n",
    "print(\"Statistics=%.3f, p=%.3f\" % (stat, p))"
   ]
  },
  {
   "cell_type": "markdown",
   "id": "6063b70a",
   "metadata": {},
   "source": [
    "#### 결과)\n",
    "- #### 정규성검정인 샤피로 월크 검정에서 p-값이 0.05보다 크거나 같으면 정규 분포라고 가정한다.\n",
    "- #### 인스타그램이나 페이스북과 달리 유튜브는 p-값이 0.05보다 작기 때문에(p=0.029) 정규 분포 가정을 위반한다. \n",
    "- #### 등분산 검정에서도 p-값이 0.05보다 작기 때문에(0.001) 등분산 가정도 위반한다. \n",
    "- #### 정규성 및 분산 동질성 가정이 충족되지 않을 경우 비모수적 버전의 분산분석검정을 사용해야하기에 여기서는 <span style=\"color:orange\">크루스칼 왈리스 검정</span>을 사용한다."
   ]
  },
  {
   "cell_type": "code",
   "execution_count": 6,
   "id": "ce6d0fb3",
   "metadata": {},
   "outputs": [
    {
     "name": "stdout",
     "output_type": "stream",
     "text": [
      "Average of Youtube group: 2043.5333333333333\n",
      "Average of Instagram group: 2307.5333333333333\n",
      "Average of Facebook group: 2295.4\n"
     ]
    }
   ],
   "source": [
    "# Calculate the average of each group\n",
    "avg_Youtube = sum(Youtube) / len(Youtube)\n",
    "avg_Instagram = sum(Instagram) / len(Instagram)\n",
    "avg_Facebook = sum(Facebook) / len(Facebook)\n",
    "\n",
    "# Print the results\n",
    "print(\"Average of Youtube group:\", avg_Youtube)\n",
    "print(\"Average of Instagram group:\", avg_Instagram)\n",
    "print(\"Average of Facebook group:\", avg_Facebook)"
   ]
  },
  {
   "cell_type": "code",
   "execution_count": 7,
   "id": "639b4a92",
   "metadata": {},
   "outputs": [
    {
     "name": "stdout",
     "output_type": "stream",
     "text": [
      "세 그룹의 평균 사이에는 통계적으로 유의미한 차이가 있다.\n"
     ]
    }
   ],
   "source": [
    "from scipy.stats import kruskal\n",
    "stat, p_value = kruskal(Youtube, Instagram, Facebook)\n",
    "if p_value < 0.05:\n",
    "    print(\"세 그룹의 평균 사이에는 통계적으로 유의미한 차이가 있다.\")\n",
    "else:\n",
    "    print(\"세 그룹의 평균 사이에는 통계적으로 유의미한 차이가 없다.\")"
   ]
  },
  {
   "cell_type": "code",
   "execution_count": 8,
   "id": "82b20e28",
   "metadata": {},
   "outputs": [
    {
     "name": "stdout",
     "output_type": "stream",
     "text": [
      "Collecting scikit_posthocs\n",
      "  Downloading scikit_posthocs-0.8.0-py3-none-any.whl (32 kB)\n",
      "Requirement already satisfied: scipy in c:\\users\\katenam\\appdata\\roaming\\python\\python39\\site-packages (from scikit_posthocs) (1.11.4)\n",
      "Requirement already satisfied: pandas>=0.20.0 in c:\\users\\katenam\\anaconda3\\lib\\site-packages (from scikit_posthocs) (1.5.2)\n",
      "Requirement already satisfied: seaborn in c:\\users\\katenam\\anaconda3\\lib\\site-packages (from scikit_posthocs) (0.13.0)\n",
      "Requirement already satisfied: numpy in c:\\users\\katenam\\anaconda3\\lib\\site-packages (from scikit_posthocs) (1.25.2)\n",
      "Requirement already satisfied: statsmodels in c:\\users\\katenam\\anaconda3\\lib\\site-packages (from scikit_posthocs) (0.13.2)\n",
      "Requirement already satisfied: matplotlib in c:\\users\\katenam\\anaconda3\\lib\\site-packages (from scikit_posthocs) (3.5.1)\n",
      "Requirement already satisfied: python-dateutil>=2.8.1 in c:\\users\\katenam\\anaconda3\\lib\\site-packages (from pandas>=0.20.0->scikit_posthocs) (2.8.2)\n",
      "Requirement already satisfied: pytz>=2020.1 in c:\\users\\katenam\\anaconda3\\lib\\site-packages (from pandas>=0.20.0->scikit_posthocs) (2021.3)\n",
      "Requirement already satisfied: kiwisolver>=1.0.1 in c:\\users\\katenam\\anaconda3\\lib\\site-packages (from matplotlib->scikit_posthocs) (1.3.2)\n",
      "Requirement already satisfied: cycler>=0.10 in c:\\users\\katenam\\anaconda3\\lib\\site-packages (from matplotlib->scikit_posthocs) (0.11.0)\n",
      "Requirement already satisfied: pillow>=6.2.0 in c:\\users\\katenam\\anaconda3\\lib\\site-packages (from matplotlib->scikit_posthocs) (9.0.1)\n",
      "Requirement already satisfied: fonttools>=4.22.0 in c:\\users\\katenam\\anaconda3\\lib\\site-packages (from matplotlib->scikit_posthocs) (4.25.0)\n",
      "Requirement already satisfied: pyparsing>=2.2.1 in c:\\users\\katenam\\anaconda3\\lib\\site-packages (from matplotlib->scikit_posthocs) (3.0.4)\n",
      "Requirement already satisfied: packaging>=20.0 in c:\\users\\katenam\\anaconda3\\lib\\site-packages (from matplotlib->scikit_posthocs) (21.3)\n",
      "Requirement already satisfied: patsy>=0.5.2 in c:\\users\\katenam\\anaconda3\\lib\\site-packages (from statsmodels->scikit_posthocs) (0.5.2)\n",
      "Requirement already satisfied: six in c:\\users\\katenam\\anaconda3\\lib\\site-packages (from patsy>=0.5.2->statsmodels->scikit_posthocs) (1.16.0)\n",
      "Installing collected packages: scikit_posthocs\n",
      "Successfully installed scikit_posthocs-0.8.0\n"
     ]
    }
   ],
   "source": [
    "!pip install scikit_posthocs"
   ]
  },
  {
   "cell_type": "code",
   "execution_count": 9,
   "id": "e3694d00",
   "metadata": {},
   "outputs": [
    {
     "data": {
      "text/html": [
       "<div>\n",
       "<style scoped>\n",
       "    .dataframe tbody tr th:only-of-type {\n",
       "        vertical-align: middle;\n",
       "    }\n",
       "\n",
       "    .dataframe tbody tr th {\n",
       "        vertical-align: top;\n",
       "    }\n",
       "\n",
       "    .dataframe thead th {\n",
       "        text-align: right;\n",
       "    }\n",
       "</style>\n",
       "<table border=\"1\" class=\"dataframe\">\n",
       "  <thead>\n",
       "    <tr style=\"text-align: right;\">\n",
       "      <th></th>\n",
       "      <th>1</th>\n",
       "      <th>2</th>\n",
       "      <th>3</th>\n",
       "    </tr>\n",
       "  </thead>\n",
       "  <tbody>\n",
       "    <tr>\n",
       "      <th>1</th>\n",
       "      <td>1.000000</td>\n",
       "      <td>0.000014</td>\n",
       "      <td>0.000184</td>\n",
       "    </tr>\n",
       "    <tr>\n",
       "      <th>2</th>\n",
       "      <td>0.000014</td>\n",
       "      <td>1.000000</td>\n",
       "      <td>0.540761</td>\n",
       "    </tr>\n",
       "    <tr>\n",
       "      <th>3</th>\n",
       "      <td>0.000184</td>\n",
       "      <td>0.540761</td>\n",
       "      <td>1.000000</td>\n",
       "    </tr>\n",
       "  </tbody>\n",
       "</table>\n",
       "</div>"
      ],
      "text/plain": [
       "          1         2         3\n",
       "1  1.000000  0.000014  0.000184\n",
       "2  0.000014  1.000000  0.540761\n",
       "3  0.000184  0.540761  1.000000"
      ]
     },
     "execution_count": 9,
     "metadata": {},
     "output_type": "execute_result"
    }
   ],
   "source": [
    "import scikit_posthocs as sp\n",
    "\n",
    "# Perform Kruskal-Wallis test\n",
    "sp.posthoc_dunn([Youtube, Instagram, Facebook])"
   ]
  },
  {
   "cell_type": "code",
   "execution_count": 10,
   "id": "ecb0b171",
   "metadata": {},
   "outputs": [
    {
     "name": "stdout",
     "output_type": "stream",
     "text": [
      "           Youtube  Instagram  Facebook\n",
      "Youtube        1.0       0.00      0.00\n",
      "Instagram      0.0       1.00      0.54\n",
      "Facebook       0.0       0.54      1.00\n"
     ]
    }
   ],
   "source": [
    "import pandas as pd\n",
    "# create a dataframe with the correlation matrix\n",
    "df = pd.DataFrame({'Youtube': [1.000000, 0.000014, 0.000184],\n",
    "                   'Instagram': [0.000014, 1.000000, 0.540761],\n",
    "                   'Facebook': [0.000184, 0.540761, 1.000000]},\n",
    "                  index=['Youtube', 'Instagram', 'Facebook'])\n",
    "\n",
    "df = df.round(2)\n",
    "\n",
    "print(df)"
   ]
  },
  {
   "cell_type": "markdown",
   "id": "9f075df2",
   "metadata": {},
   "source": [
    "#### 결과)\n",
    "- #### 인스타그램과 페이스북의 효과 비교에 대한 p-값은 0.54로 유의 수준 0.05보다 크다. 따라서 두 그룹 간의 평균에 유의미한 차이 없다.\n",
    "- #### 유튜브와 페이스북의 효과 비교/ 인스타그램과 유튜브 대한 p-값은 유의 수준 0.05보다 작다. 즉, 두 그룹 간의 평균에는 유의미한 차이가 있다."
   ]
  }
 ],
 "metadata": {
  "kernelspec": {
   "display_name": "Python 3 (ipykernel)",
   "language": "python",
   "name": "python3"
  },
  "language_info": {
   "codemirror_mode": {
    "name": "ipython",
    "version": 3
   },
   "file_extension": ".py",
   "mimetype": "text/x-python",
   "name": "python",
   "nbconvert_exporter": "python",
   "pygments_lexer": "ipython3",
   "version": "3.9.12"
  }
 },
 "nbformat": 4,
 "nbformat_minor": 5
}
