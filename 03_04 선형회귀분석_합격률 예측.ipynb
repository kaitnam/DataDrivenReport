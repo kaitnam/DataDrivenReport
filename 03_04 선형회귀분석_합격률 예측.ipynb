{
 "cells": [
  {
   "cell_type": "markdown",
   "id": "0e686189",
   "metadata": {},
   "source": [
    "## 1. 목표)\n",
    "### 대학교 합격률을 예측해보자."
   ]
  },
  {
   "cell_type": "code",
   "execution_count": 1,
   "id": "70950d90",
   "metadata": {},
   "outputs": [
    {
     "data": {
      "text/html": [
       "<div>\n",
       "<style scoped>\n",
       "    .dataframe tbody tr th:only-of-type {\n",
       "        vertical-align: middle;\n",
       "    }\n",
       "\n",
       "    .dataframe tbody tr th {\n",
       "        vertical-align: top;\n",
       "    }\n",
       "\n",
       "    .dataframe thead th {\n",
       "        text-align: right;\n",
       "    }\n",
       "</style>\n",
       "<table border=\"1\" class=\"dataframe\">\n",
       "  <thead>\n",
       "    <tr style=\"text-align: right;\">\n",
       "      <th></th>\n",
       "      <th>Serial No.</th>\n",
       "      <th>GRE Score</th>\n",
       "      <th>TOEFL Score</th>\n",
       "      <th>University Rating</th>\n",
       "      <th>SOP</th>\n",
       "      <th>LOR</th>\n",
       "      <th>CGPA</th>\n",
       "      <th>Research</th>\n",
       "      <th>Chance of Admit</th>\n",
       "    </tr>\n",
       "  </thead>\n",
       "  <tbody>\n",
       "    <tr>\n",
       "      <th>0</th>\n",
       "      <td>1</td>\n",
       "      <td>337</td>\n",
       "      <td>118</td>\n",
       "      <td>4</td>\n",
       "      <td>4.5</td>\n",
       "      <td>4.5</td>\n",
       "      <td>9.65</td>\n",
       "      <td>1</td>\n",
       "      <td>0.92</td>\n",
       "    </tr>\n",
       "    <tr>\n",
       "      <th>1</th>\n",
       "      <td>2</td>\n",
       "      <td>324</td>\n",
       "      <td>107</td>\n",
       "      <td>4</td>\n",
       "      <td>4.0</td>\n",
       "      <td>4.5</td>\n",
       "      <td>8.87</td>\n",
       "      <td>1</td>\n",
       "      <td>0.76</td>\n",
       "    </tr>\n",
       "    <tr>\n",
       "      <th>2</th>\n",
       "      <td>3</td>\n",
       "      <td>316</td>\n",
       "      <td>104</td>\n",
       "      <td>3</td>\n",
       "      <td>3.0</td>\n",
       "      <td>3.5</td>\n",
       "      <td>8.00</td>\n",
       "      <td>1</td>\n",
       "      <td>0.72</td>\n",
       "    </tr>\n",
       "    <tr>\n",
       "      <th>3</th>\n",
       "      <td>4</td>\n",
       "      <td>322</td>\n",
       "      <td>110</td>\n",
       "      <td>3</td>\n",
       "      <td>3.5</td>\n",
       "      <td>2.5</td>\n",
       "      <td>8.67</td>\n",
       "      <td>1</td>\n",
       "      <td>0.80</td>\n",
       "    </tr>\n",
       "    <tr>\n",
       "      <th>4</th>\n",
       "      <td>5</td>\n",
       "      <td>314</td>\n",
       "      <td>103</td>\n",
       "      <td>2</td>\n",
       "      <td>2.0</td>\n",
       "      <td>3.0</td>\n",
       "      <td>8.21</td>\n",
       "      <td>0</td>\n",
       "      <td>0.65</td>\n",
       "    </tr>\n",
       "  </tbody>\n",
       "</table>\n",
       "</div>"
      ],
      "text/plain": [
       "   Serial No.  GRE Score  TOEFL Score  University Rating  SOP  LOR   CGPA  \\\n",
       "0           1        337          118                  4  4.5   4.5  9.65   \n",
       "1           2        324          107                  4  4.0   4.5  8.87   \n",
       "2           3        316          104                  3  3.0   3.5  8.00   \n",
       "3           4        322          110                  3  3.5   2.5  8.67   \n",
       "4           5        314          103                  2  2.0   3.0  8.21   \n",
       "\n",
       "   Research  Chance of Admit   \n",
       "0         1              0.92  \n",
       "1         1              0.76  \n",
       "2         1              0.72  \n",
       "3         1              0.80  \n",
       "4         0              0.65  "
      ]
     },
     "execution_count": 1,
     "metadata": {},
     "output_type": "execute_result"
    }
   ],
   "source": [
    "import pandas as pd\n",
    "import warnings\n",
    "warnings.filterwarnings('ignore')\n",
    "\n",
    "df = pd.read_csv('C:/Users/katenam/DataDrivenReport/Admission_Predict.csv')\n",
    "df.head()"
   ]
  },
  {
   "cell_type": "code",
   "execution_count": 4,
   "id": "4f9335c7",
   "metadata": {},
   "outputs": [
    {
     "data": {
      "text/plain": [
       "Index(['SerialNo', 'GREScore', 'TOEFLScore', 'UniversityRating', 'SOP', 'LOR',\n",
       "       'CGPA', 'Research', 'ChanceOfAdmit'],\n",
       "      dtype='object')"
      ]
     },
     "execution_count": 4,
     "metadata": {},
     "output_type": "execute_result"
    }
   ],
   "source": [
    "df = df.rename(columns={'Serial No.': 'SerialNo', 'GRE Score': 'GREScore',\n",
    "                        'TOEFL Score': 'TOEFLScore', 'University Rating': 'UniversityRating',\n",
    "                        'SOP': 'SOP', 'LOR ': 'LOR', 'CGPA': 'CGPA', 'Research': 'Research',\n",
    "                        'Chance of Admit ': 'ChanceOfAdmit'})\n",
    "df.columns"
   ]
  },
  {
   "cell_type": "code",
   "execution_count": 5,
   "id": "d61eb58f",
   "metadata": {},
   "outputs": [],
   "source": [
    "x_data = df[['GREScore', 'TOEFLScore', 'UniversityRating', 'SOP', 'LOR', 'CGPA','Research']]\n",
    "target = df[\"ChanceOfAdmit\"]"
   ]
  },
  {
   "cell_type": "code",
   "execution_count": 2,
   "id": "3fea13a4",
   "metadata": {},
   "outputs": [],
   "source": [
    "from sklearn.model_selection import train_test_split\n",
    "from sklearn.linear_model import LinearRegression"
   ]
  },
  {
   "cell_type": "code",
   "execution_count": 6,
   "id": "5cf2cf1c",
   "metadata": {},
   "outputs": [],
   "source": [
    "# Split data for test and train the model.\n",
    "x_train, x_test, y_train, y_test = train_test_split(x_data,target,random_state=0,test_size=0.2)"
   ]
  },
  {
   "cell_type": "code",
   "execution_count": 7,
   "id": "b4ad0fdc",
   "metadata": {},
   "outputs": [
    {
     "data": {
      "text/html": [
       "<style>#sk-container-id-1 {color: black;background-color: white;}#sk-container-id-1 pre{padding: 0;}#sk-container-id-1 div.sk-toggleable {background-color: white;}#sk-container-id-1 label.sk-toggleable__label {cursor: pointer;display: block;width: 100%;margin-bottom: 0;padding: 0.3em;box-sizing: border-box;text-align: center;}#sk-container-id-1 label.sk-toggleable__label-arrow:before {content: \"▸\";float: left;margin-right: 0.25em;color: #696969;}#sk-container-id-1 label.sk-toggleable__label-arrow:hover:before {color: black;}#sk-container-id-1 div.sk-estimator:hover label.sk-toggleable__label-arrow:before {color: black;}#sk-container-id-1 div.sk-toggleable__content {max-height: 0;max-width: 0;overflow: hidden;text-align: left;background-color: #f0f8ff;}#sk-container-id-1 div.sk-toggleable__content pre {margin: 0.2em;color: black;border-radius: 0.25em;background-color: #f0f8ff;}#sk-container-id-1 input.sk-toggleable__control:checked~div.sk-toggleable__content {max-height: 200px;max-width: 100%;overflow: auto;}#sk-container-id-1 input.sk-toggleable__control:checked~label.sk-toggleable__label-arrow:before {content: \"▾\";}#sk-container-id-1 div.sk-estimator input.sk-toggleable__control:checked~label.sk-toggleable__label {background-color: #d4ebff;}#sk-container-id-1 div.sk-label input.sk-toggleable__control:checked~label.sk-toggleable__label {background-color: #d4ebff;}#sk-container-id-1 input.sk-hidden--visually {border: 0;clip: rect(1px 1px 1px 1px);clip: rect(1px, 1px, 1px, 1px);height: 1px;margin: -1px;overflow: hidden;padding: 0;position: absolute;width: 1px;}#sk-container-id-1 div.sk-estimator {font-family: monospace;background-color: #f0f8ff;border: 1px dotted black;border-radius: 0.25em;box-sizing: border-box;margin-bottom: 0.5em;}#sk-container-id-1 div.sk-estimator:hover {background-color: #d4ebff;}#sk-container-id-1 div.sk-parallel-item::after {content: \"\";width: 100%;border-bottom: 1px solid gray;flex-grow: 1;}#sk-container-id-1 div.sk-label:hover label.sk-toggleable__label {background-color: #d4ebff;}#sk-container-id-1 div.sk-serial::before {content: \"\";position: absolute;border-left: 1px solid gray;box-sizing: border-box;top: 0;bottom: 0;left: 50%;z-index: 0;}#sk-container-id-1 div.sk-serial {display: flex;flex-direction: column;align-items: center;background-color: white;padding-right: 0.2em;padding-left: 0.2em;position: relative;}#sk-container-id-1 div.sk-item {position: relative;z-index: 1;}#sk-container-id-1 div.sk-parallel {display: flex;align-items: stretch;justify-content: center;background-color: white;position: relative;}#sk-container-id-1 div.sk-item::before, #sk-container-id-1 div.sk-parallel-item::before {content: \"\";position: absolute;border-left: 1px solid gray;box-sizing: border-box;top: 0;bottom: 0;left: 50%;z-index: -1;}#sk-container-id-1 div.sk-parallel-item {display: flex;flex-direction: column;z-index: 1;position: relative;background-color: white;}#sk-container-id-1 div.sk-parallel-item:first-child::after {align-self: flex-end;width: 50%;}#sk-container-id-1 div.sk-parallel-item:last-child::after {align-self: flex-start;width: 50%;}#sk-container-id-1 div.sk-parallel-item:only-child::after {width: 0;}#sk-container-id-1 div.sk-dashed-wrapped {border: 1px dashed gray;margin: 0 0.4em 0.5em 0.4em;box-sizing: border-box;padding-bottom: 0.4em;background-color: white;}#sk-container-id-1 div.sk-label label {font-family: monospace;font-weight: bold;display: inline-block;line-height: 1.2em;}#sk-container-id-1 div.sk-label-container {text-align: center;}#sk-container-id-1 div.sk-container {/* jupyter's `normalize.less` sets `[hidden] { display: none; }` but bootstrap.min.css set `[hidden] { display: none !important; }` so we also need the `!important` here to be able to override the default hidden behavior on the sphinx rendered scikit-learn.org. See: https://github.com/scikit-learn/scikit-learn/issues/21755 */display: inline-block !important;position: relative;}#sk-container-id-1 div.sk-text-repr-fallback {display: none;}</style><div id=\"sk-container-id-1\" class=\"sk-top-container\"><div class=\"sk-text-repr-fallback\"><pre>LinearRegression()</pre><b>In a Jupyter environment, please rerun this cell to show the HTML representation or trust the notebook. <br />On GitHub, the HTML representation is unable to render, please try loading this page with nbviewer.org.</b></div><div class=\"sk-container\" hidden><div class=\"sk-item\"><div class=\"sk-estimator sk-toggleable\"><input class=\"sk-toggleable__control sk-hidden--visually\" id=\"sk-estimator-id-1\" type=\"checkbox\" checked><label for=\"sk-estimator-id-1\" class=\"sk-toggleable__label sk-toggleable__label-arrow\">LinearRegression</label><div class=\"sk-toggleable__content\"><pre>LinearRegression()</pre></div></div></div></div></div>"
      ],
      "text/plain": [
       "LinearRegression()"
      ]
     },
     "execution_count": 7,
     "metadata": {},
     "output_type": "execute_result"
    }
   ],
   "source": [
    "#object\n",
    "linreg = LinearRegression()\n",
    "# fiting our data for training\n",
    "linreg.fit(x_train,y_train)"
   ]
  },
  {
   "cell_type": "code",
   "execution_count": 8,
   "id": "810a8905",
   "metadata": {},
   "outputs": [
    {
     "data": {
      "text/plain": [
       "array([0.69791327, 0.69343926, 0.77882728, 0.61577391, 0.72281999,\n",
       "       0.60286273, 0.7067783 , 0.64104331, 0.87037545, 0.91874738,\n",
       "       0.53830841, 0.88537227, 0.70839345, 0.45744365, 0.85464724,\n",
       "       0.62329657, 0.63034415, 0.81411912, 0.58479826, 0.73198733,\n",
       "       0.8755188 , 0.8436008 , 0.65964574, 0.45723204, 0.78390781,\n",
       "       0.58302231, 0.49932541, 0.64153708, 0.88778116, 0.64950902,\n",
       "       0.64065401, 0.74057509, 0.74268991, 0.55702869, 0.78303581,\n",
       "       0.77159575, 0.65140153, 0.86244822, 0.63038997, 0.92925287,\n",
       "       0.72728695, 0.67164181, 0.70967833, 0.80792068, 0.8242496 ,\n",
       "       0.6540426 , 0.56311848, 0.69211512, 0.60750179, 0.60172386,\n",
       "       0.67514274, 0.80138513, 0.65205933, 0.87968402, 0.72302425,\n",
       "       0.75457701, 0.70602419, 0.73465988, 0.75784394, 0.82956036,\n",
       "       0.77359675, 0.47343091, 0.63752277, 0.52286953, 0.84258874,\n",
       "       0.82142312, 0.73664582, 0.86699812, 0.76933952, 0.75453984,\n",
       "       0.59900479, 0.82915301, 0.82822468, 0.60736795, 0.93236783,\n",
       "       0.63445628, 0.63728309, 0.64518748, 0.90854935, 0.51460138])"
      ]
     },
     "execution_count": 8,
     "metadata": {},
     "output_type": "execute_result"
    }
   ],
   "source": [
    "# our model is ready to predict y.\n",
    "y_pred = linreg.predict(x_test)\n",
    "y_pred  "
   ]
  },
  {
   "cell_type": "markdown",
   "id": "0a8db0e8",
   "metadata": {},
   "source": [
    "- #### y_pred라는 결과값을 보면 첫 번째 값 0.6979는 x_test의 각 변수들(GRE, SOP, SPA 등)의 조합이 69.79%라는 y값을 예측했다는 것이다.<br/><br/> 즉, y_test 개수만큼의 값을 예측하고 예측한 값과 y_test 실제값을 비교하여 정확도를 측정하게 된다.\n"
   ]
  },
  {
   "cell_type": "code",
   "execution_count": 9,
   "id": "d369ba72",
   "metadata": {},
   "outputs": [
    {
     "name": "stdout",
     "output_type": "stream",
     "text": [
      "R-squared score: 0.7355078738145215\n"
     ]
    }
   ],
   "source": [
    "from sklearn.metrics import r2_score\n",
    "\n",
    "print('R-squared score:', r2_score(y_test, y_pred))"
   ]
  },
  {
   "cell_type": "markdown",
   "id": "54e3633e",
   "metadata": {},
   "source": [
    "- #### <span style=\"color:blueviolet\">R-squared(결정계수)</span>는 실제값(y)과 예측값(y_pred) 차이를 제곱하여 평균한 값의 비율을 나타내는 지표이다. "
   ]
  },
  {
   "cell_type": "markdown",
   "id": "1371c4b0",
   "metadata": {},
   "source": [
    "### 2) 예측\n",
    "- #### 직접 각 변수별 점수를 넣고 합격에 대한 확률을 알아보자"
   ]
  },
  {
   "cell_type": "code",
   "execution_count": 13,
   "id": "3271eec5",
   "metadata": {},
   "outputs": [
    {
     "name": "stdout",
     "output_type": "stream",
     "text": [
      "The chance of you getting an admit in the US is 67.9%\n"
     ]
    }
   ],
   "source": [
    "print('The chance of you getting an admit in the US is {}%'.format(round(linreg.predict([[305, 108, 4, 4.5, 4.5, 8.35, 0]])[0]*100, 1)))"
   ]
  },
  {
   "cell_type": "code",
   "execution_count": 14,
   "id": "c2685754",
   "metadata": {},
   "outputs": [
    {
     "name": "stdout",
     "output_type": "stream",
     "text": [
      "The chance of you getting an admit in the US is 83.8%\n"
     ]
    }
   ],
   "source": [
    "print('The chance of you getting an admit in the US is {}%'.format(round(linreg.predict([[370, 108, 4, 4.5, 4.5, 8.35, 1]])[0]*100, 1)))"
   ]
  }
 ],
 "metadata": {
  "kernelspec": {
   "display_name": "Python 3 (ipykernel)",
   "language": "python",
   "name": "python3"
  },
  "language_info": {
   "codemirror_mode": {
    "name": "ipython",
    "version": 3
   },
   "file_extension": ".py",
   "mimetype": "text/x-python",
   "name": "python",
   "nbconvert_exporter": "python",
   "pygments_lexer": "ipython3",
   "version": "3.9.12"
  }
 },
 "nbformat": 4,
 "nbformat_minor": 5
}
