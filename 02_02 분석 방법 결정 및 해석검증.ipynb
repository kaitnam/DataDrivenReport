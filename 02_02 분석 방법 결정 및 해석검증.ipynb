{
 "cells": [
  {
   "cell_type": "markdown",
   "id": "d5781251",
   "metadata": {},
   "source": [
    "## 질문) <br/><br/><span style=\"color:red\">강남 학생들의 수능 점수가 다른 지역 학생들의 점수보다 뛰어난 이유는 학원을 많이 다녀서일까?</span>\n",
    "- #### 먼저 강남 8학군 학생들과 다른 지역 학생들의 수능 점수와 평균 학원 개수에 대한 기초 통계를 보니 강남 8학군 학생들의 평균 점수가 다른 지역 <br/><br/>학생들의 점수보다 높아 보인다. <span style=\"color:blue\"> (기술통계) </span>\n",
    "- #### 과연 학원 개수가 증가하면 수능 점수도 향상하는가? <span style=\"color:blue\">(상관관계 분석)</span>\n",
    "- #### 분석 결과 상관관계가 크진 않았지만, 2022년도 이전과 이후 두 그룹으로 나누면 2022년도 이전까지는 강남 8학군 학생들의 학원 개수가 증가할수록 <br/><br/>수능 점수도 증가하는 것을 보였다. <span style=\"color:blue\">(EDA)</span>\n",
    "- #### 2022년도 이전과 이후 그룹을 나눠서 강남 8학군 학생과 다른 지역 학생들의 수능 점수를 차트로 보여주었다. <span style=\"color:blue\">(시각화)</span>\n",
    "- #### 하지만 우연한 결과 일 수 있으므로 가설검정을 통해 <span style=\"color:orange\"> *'학원 개수가 증가할수록 수능 점수가 높아진다'* </span> 라는 가설의 진위를 테스트 했다. <span style=\"color:blue\">(가설검정)</span>\n",
    "- #### 가설검정을 통해 우연히 발생한 것이 아니라는 결과를 얻었고, 그렇다면 학원 개수가 한 개 더 증가할수록 대체 수능 점수에 얼마나 영향을 줬는지<br/><br/>  궁금해졌다. <span style=\"color:blue\">(단순회귀분석)</span>\n",
    "- #### 또한 학원 개수뿐 아니라 당연히 다른 요소도 수능 점수에 영향을 줄 것 같았고, 그중 하나로 수면 시간을 떠올려 학원 개수와 함께 수면 시간의<br/><br/> 영향력도 분석해 보았다. <span style=\"color:blue\">(다중회귀분석)</span>\n",
    "- #### 꼬리에 꼬리를 무는 추가 질문은 <span style=\"color:orange\"> *'결국 학원 개수와 수면 시간이 어느정도 되어야 의대에 합격할 수 있는가'* </span> 다. 합격 여부를 예측하는 모델을 <br/><br/>만들어보았다. <span style=\"color:blue\">(예측모델)</span>\n",
    "- #### 마지막으로 강남 8학군 학생들이 공부하면서 어떤 것에 가장 관심이 많고, 의대를목표로 하는 이유가 무엇인지에 대한 설문조사 결과를 주제별로 <br/><br/>자동 분류해보았다. <span style=\"color:blue\">(토픽모델링)</span>\n"
   ]
  },
  {
   "cell_type": "markdown",
   "id": "428d0ef2",
   "metadata": {},
   "source": [
    "##  1. 기본통계\n",
    "### 1) 기술통계\n",
    "- #### 기술통계는 데이터의 주요 특성과 패턴을 이해하는 데 도움이 되는 데이터에 대한 간결한 요약을 제공한다. \n",
    "- #### 데이터의 중심 경향과 변동성 및 분포를 분석하여 이상치를 식별하고, 데이터 품질을 결정, 기본 모집단에 대한 가설을 수립하는 데 도움이 된다.\n",
    "- #### 레드 와인 품질 관련 데이터셋을 가져와서 기술통계를 연습해보자"
   ]
  },
  {
   "cell_type": "code",
   "execution_count": 5,
   "id": "c3d8b4de",
   "metadata": {},
   "outputs": [],
   "source": [
    "import pandas as pd\n",
    "import numpy as np\n",
    "import seaborn as sns\n",
    "import matplotlib.pyplot as plt\n",
    "from IPython.display import Image\n",
    "\n",
    "%matplotlib inline\n",
    "\n",
    "df = pd.read_csv('https://archive.ics.uci.edu/ml/machine-learning-databases/wine-quality/winequality-red.csv', sep=';')"
   ]
  },
  {
   "cell_type": "code",
   "execution_count": 10,
   "id": "32b91d14",
   "metadata": {},
   "outputs": [
    {
     "data": {
      "text/html": [
       "<div>\n",
       "<style scoped>\n",
       "    .dataframe tbody tr th:only-of-type {\n",
       "        vertical-align: middle;\n",
       "    }\n",
       "\n",
       "    .dataframe tbody tr th {\n",
       "        vertical-align: top;\n",
       "    }\n",
       "\n",
       "    .dataframe thead th {\n",
       "        text-align: right;\n",
       "    }\n",
       "</style>\n",
       "<table border=\"1\" class=\"dataframe\">\n",
       "  <thead>\n",
       "    <tr style=\"text-align: right;\">\n",
       "      <th></th>\n",
       "      <th>fixed acidity</th>\n",
       "      <th>volatile acidity</th>\n",
       "      <th>citric acid</th>\n",
       "      <th>residual sugar</th>\n",
       "      <th>chlorides</th>\n",
       "      <th>free sulfur dioxide</th>\n",
       "      <th>total sulfur dioxide</th>\n",
       "      <th>density</th>\n",
       "      <th>pH</th>\n",
       "      <th>sulphates</th>\n",
       "      <th>alcohol</th>\n",
       "      <th>quality</th>\n",
       "    </tr>\n",
       "  </thead>\n",
       "  <tbody>\n",
       "    <tr>\n",
       "      <th>0</th>\n",
       "      <td>7.4</td>\n",
       "      <td>0.700</td>\n",
       "      <td>0.00</td>\n",
       "      <td>1.9</td>\n",
       "      <td>0.076</td>\n",
       "      <td>11.0</td>\n",
       "      <td>34.0</td>\n",
       "      <td>0.99780</td>\n",
       "      <td>3.51</td>\n",
       "      <td>0.56</td>\n",
       "      <td>9.4</td>\n",
       "      <td>5</td>\n",
       "    </tr>\n",
       "    <tr>\n",
       "      <th>1</th>\n",
       "      <td>7.8</td>\n",
       "      <td>0.880</td>\n",
       "      <td>0.00</td>\n",
       "      <td>2.6</td>\n",
       "      <td>0.098</td>\n",
       "      <td>25.0</td>\n",
       "      <td>67.0</td>\n",
       "      <td>0.99680</td>\n",
       "      <td>3.20</td>\n",
       "      <td>0.68</td>\n",
       "      <td>9.8</td>\n",
       "      <td>5</td>\n",
       "    </tr>\n",
       "    <tr>\n",
       "      <th>2</th>\n",
       "      <td>7.8</td>\n",
       "      <td>0.760</td>\n",
       "      <td>0.04</td>\n",
       "      <td>2.3</td>\n",
       "      <td>0.092</td>\n",
       "      <td>15.0</td>\n",
       "      <td>54.0</td>\n",
       "      <td>0.99700</td>\n",
       "      <td>3.26</td>\n",
       "      <td>0.65</td>\n",
       "      <td>9.8</td>\n",
       "      <td>5</td>\n",
       "    </tr>\n",
       "    <tr>\n",
       "      <th>3</th>\n",
       "      <td>11.2</td>\n",
       "      <td>0.280</td>\n",
       "      <td>0.56</td>\n",
       "      <td>1.9</td>\n",
       "      <td>0.075</td>\n",
       "      <td>17.0</td>\n",
       "      <td>60.0</td>\n",
       "      <td>0.99800</td>\n",
       "      <td>3.16</td>\n",
       "      <td>0.58</td>\n",
       "      <td>9.8</td>\n",
       "      <td>6</td>\n",
       "    </tr>\n",
       "    <tr>\n",
       "      <th>4</th>\n",
       "      <td>7.4</td>\n",
       "      <td>0.700</td>\n",
       "      <td>0.00</td>\n",
       "      <td>1.9</td>\n",
       "      <td>0.076</td>\n",
       "      <td>11.0</td>\n",
       "      <td>34.0</td>\n",
       "      <td>0.99780</td>\n",
       "      <td>3.51</td>\n",
       "      <td>0.56</td>\n",
       "      <td>9.4</td>\n",
       "      <td>5</td>\n",
       "    </tr>\n",
       "    <tr>\n",
       "      <th>...</th>\n",
       "      <td>...</td>\n",
       "      <td>...</td>\n",
       "      <td>...</td>\n",
       "      <td>...</td>\n",
       "      <td>...</td>\n",
       "      <td>...</td>\n",
       "      <td>...</td>\n",
       "      <td>...</td>\n",
       "      <td>...</td>\n",
       "      <td>...</td>\n",
       "      <td>...</td>\n",
       "      <td>...</td>\n",
       "    </tr>\n",
       "    <tr>\n",
       "      <th>1594</th>\n",
       "      <td>6.2</td>\n",
       "      <td>0.600</td>\n",
       "      <td>0.08</td>\n",
       "      <td>2.0</td>\n",
       "      <td>0.090</td>\n",
       "      <td>32.0</td>\n",
       "      <td>44.0</td>\n",
       "      <td>0.99490</td>\n",
       "      <td>3.45</td>\n",
       "      <td>0.58</td>\n",
       "      <td>10.5</td>\n",
       "      <td>5</td>\n",
       "    </tr>\n",
       "    <tr>\n",
       "      <th>1595</th>\n",
       "      <td>5.9</td>\n",
       "      <td>0.550</td>\n",
       "      <td>0.10</td>\n",
       "      <td>2.2</td>\n",
       "      <td>0.062</td>\n",
       "      <td>39.0</td>\n",
       "      <td>51.0</td>\n",
       "      <td>0.99512</td>\n",
       "      <td>3.52</td>\n",
       "      <td>0.76</td>\n",
       "      <td>11.2</td>\n",
       "      <td>6</td>\n",
       "    </tr>\n",
       "    <tr>\n",
       "      <th>1596</th>\n",
       "      <td>6.3</td>\n",
       "      <td>0.510</td>\n",
       "      <td>0.13</td>\n",
       "      <td>2.3</td>\n",
       "      <td>0.076</td>\n",
       "      <td>29.0</td>\n",
       "      <td>40.0</td>\n",
       "      <td>0.99574</td>\n",
       "      <td>3.42</td>\n",
       "      <td>0.75</td>\n",
       "      <td>11.0</td>\n",
       "      <td>6</td>\n",
       "    </tr>\n",
       "    <tr>\n",
       "      <th>1597</th>\n",
       "      <td>5.9</td>\n",
       "      <td>0.645</td>\n",
       "      <td>0.12</td>\n",
       "      <td>2.0</td>\n",
       "      <td>0.075</td>\n",
       "      <td>32.0</td>\n",
       "      <td>44.0</td>\n",
       "      <td>0.99547</td>\n",
       "      <td>3.57</td>\n",
       "      <td>0.71</td>\n",
       "      <td>10.2</td>\n",
       "      <td>5</td>\n",
       "    </tr>\n",
       "    <tr>\n",
       "      <th>1598</th>\n",
       "      <td>6.0</td>\n",
       "      <td>0.310</td>\n",
       "      <td>0.47</td>\n",
       "      <td>3.6</td>\n",
       "      <td>0.067</td>\n",
       "      <td>18.0</td>\n",
       "      <td>42.0</td>\n",
       "      <td>0.99549</td>\n",
       "      <td>3.39</td>\n",
       "      <td>0.66</td>\n",
       "      <td>11.0</td>\n",
       "      <td>6</td>\n",
       "    </tr>\n",
       "  </tbody>\n",
       "</table>\n",
       "<p>1599 rows × 12 columns</p>\n",
       "</div>"
      ],
      "text/plain": [
       "      fixed acidity  volatile acidity  citric acid  residual sugar  chlorides  \\\n",
       "0               7.4             0.700         0.00             1.9      0.076   \n",
       "1               7.8             0.880         0.00             2.6      0.098   \n",
       "2               7.8             0.760         0.04             2.3      0.092   \n",
       "3              11.2             0.280         0.56             1.9      0.075   \n",
       "4               7.4             0.700         0.00             1.9      0.076   \n",
       "...             ...               ...          ...             ...        ...   \n",
       "1594            6.2             0.600         0.08             2.0      0.090   \n",
       "1595            5.9             0.550         0.10             2.2      0.062   \n",
       "1596            6.3             0.510         0.13             2.3      0.076   \n",
       "1597            5.9             0.645         0.12             2.0      0.075   \n",
       "1598            6.0             0.310         0.47             3.6      0.067   \n",
       "\n",
       "      free sulfur dioxide  total sulfur dioxide  density    pH  sulphates  \\\n",
       "0                    11.0                  34.0  0.99780  3.51       0.56   \n",
       "1                    25.0                  67.0  0.99680  3.20       0.68   \n",
       "2                    15.0                  54.0  0.99700  3.26       0.65   \n",
       "3                    17.0                  60.0  0.99800  3.16       0.58   \n",
       "4                    11.0                  34.0  0.99780  3.51       0.56   \n",
       "...                   ...                   ...      ...   ...        ...   \n",
       "1594                 32.0                  44.0  0.99490  3.45       0.58   \n",
       "1595                 39.0                  51.0  0.99512  3.52       0.76   \n",
       "1596                 29.0                  40.0  0.99574  3.42       0.75   \n",
       "1597                 32.0                  44.0  0.99547  3.57       0.71   \n",
       "1598                 18.0                  42.0  0.99549  3.39       0.66   \n",
       "\n",
       "      alcohol  quality  \n",
       "0         9.4        5  \n",
       "1         9.8        5  \n",
       "2         9.8        5  \n",
       "3         9.8        6  \n",
       "4         9.4        5  \n",
       "...       ...      ...  \n",
       "1594     10.5        5  \n",
       "1595     11.2        6  \n",
       "1596     11.0        6  \n",
       "1597     10.2        5  \n",
       "1598     11.0        6  \n",
       "\n",
       "[1599 rows x 12 columns]"
      ]
     },
     "execution_count": 10,
     "metadata": {},
     "output_type": "execute_result"
    }
   ],
   "source": [
    "df"
   ]
  },
  {
   "cell_type": "markdown",
   "id": "ed937770",
   "metadata": {},
   "source": [
    "### 변수 설명\n",
    "- #### fixed acidity : 결합산\n",
    "- #### volatile acidity : 휘발성 산도\n",
    "- #### citric acid : 시트르산\n",
    "- #### residual sugar : 잔류 당분\n",
    "- #### chlorides : 염화물\n",
    "- #### free sulfur dioxide : 유리 이산화황\n",
    "- #### total sulfur dioxide : 총 이산화황\n",
    "- #### density : 밀도\n",
    "- #### pH : 산도\n",
    "- #### sulphates : 황산염\n",
    "- #### alcohol : 알콜 도수\n",
    "- #### quality : 0 ~ 10(높을 수록 좋은 품질)"
   ]
  },
  {
   "cell_type": "code",
   "execution_count": 12,
   "id": "458e20eb",
   "metadata": {},
   "outputs": [
    {
     "name": "stdout",
     "output_type": "stream",
     "text": [
      "       fixed acidity  volatile acidity  citric acid  residual sugar  \\\n",
      "count        1599.00           1599.00      1599.00         1599.00   \n",
      "mean            8.32              0.53         0.27            2.54   \n",
      "std             1.74              0.18         0.19            1.41   \n",
      "min             4.60              0.12         0.00            0.90   \n",
      "25%             7.10              0.39         0.09            1.90   \n",
      "50%             7.90              0.52         0.26            2.20   \n",
      "75%             9.20              0.64         0.42            2.60   \n",
      "max            15.90              1.58         1.00           15.50   \n",
      "\n",
      "       chlorides  free sulfur dioxide  total sulfur dioxide  density       pH  \\\n",
      "count    1599.00              1599.00               1599.00  1599.00  1599.00   \n",
      "mean        0.09                15.87                 46.47     1.00     3.31   \n",
      "std         0.05                10.46                 32.90     0.00     0.15   \n",
      "min         0.01                 1.00                  6.00     0.99     2.74   \n",
      "25%         0.07                 7.00                 22.00     1.00     3.21   \n",
      "50%         0.08                14.00                 38.00     1.00     3.31   \n",
      "75%         0.09                21.00                 62.00     1.00     3.40   \n",
      "max         0.61                72.00                289.00     1.00     4.01   \n",
      "\n",
      "       sulphates  alcohol  quality  \n",
      "count    1599.00  1599.00  1599.00  \n",
      "mean        0.66    10.42     5.64  \n",
      "std         0.17     1.07     0.81  \n",
      "min         0.33     8.40     3.00  \n",
      "25%         0.55     9.50     5.00  \n",
      "50%         0.62    10.20     6.00  \n",
      "75%         0.73    11.10     6.00  \n",
      "max         2.00    14.90     8.00  \n"
     ]
    }
   ],
   "source": [
    "# Calculate descriptive statistics for each column\n",
    "stats = df.describe().round(2)\n",
    "print(stats)"
   ]
  },
  {
   "cell_type": "markdown",
   "id": "749e68c2",
   "metadata": {},
   "source": [
    "- #### 위의 결과에서 4개의 항목(range, var, skew, kurtosis)을 더 계산해서 붙여주자."
   ]
  },
  {
   "cell_type": "code",
   "execution_count": 13,
   "id": "ee1316a8",
   "metadata": {},
   "outputs": [
    {
     "name": "stdout",
     "output_type": "stream",
     "text": [
      "          fixed acidity  volatile acidity  citric acid  residual sugar  \\\n",
      "count           1599.00           1599.00      1599.00         1599.00   \n",
      "mean               8.32              0.53         0.27            2.54   \n",
      "std                1.74              0.18         0.19            1.41   \n",
      "min                4.60              0.12         0.00            0.90   \n",
      "25%                7.10              0.39         0.09            1.90   \n",
      "50%                7.90              0.52         0.26            2.20   \n",
      "75%                9.20              0.64         0.42            2.60   \n",
      "max               15.90              1.58         1.00           15.50   \n",
      "range             11.30              1.46         1.00           14.60   \n",
      "var                3.03              0.03         0.04            1.99   \n",
      "skew               0.98              0.67         0.32            4.54   \n",
      "kurtosis           1.13              1.23        -0.79           28.62   \n",
      "\n",
      "          chlorides  free sulfur dioxide  total sulfur dioxide  density  \\\n",
      "count       1599.00              1599.00               1599.00  1599.00   \n",
      "mean           0.09                15.87                 46.47     1.00   \n",
      "std            0.05                10.46                 32.90     0.00   \n",
      "min            0.01                 1.00                  6.00     0.99   \n",
      "25%            0.07                 7.00                 22.00     1.00   \n",
      "50%            0.08                14.00                 38.00     1.00   \n",
      "75%            0.09                21.00                 62.00     1.00   \n",
      "max            0.61                72.00                289.00     1.00   \n",
      "range          0.60                71.00                283.00     0.01   \n",
      "var            0.00               109.41               1082.10     0.00   \n",
      "skew           5.68                 1.25                  1.52     0.07   \n",
      "kurtosis      41.72                 2.02                  3.81     0.93   \n",
      "\n",
      "               pH  sulphates  alcohol  quality  \n",
      "count     1599.00    1599.00  1599.00  1599.00  \n",
      "mean         3.31       0.66    10.42     5.64  \n",
      "std          0.15       0.17     1.07     0.81  \n",
      "min          2.74       0.33     8.40     3.00  \n",
      "25%          3.21       0.55     9.50     5.00  \n",
      "50%          3.31       0.62    10.20     6.00  \n",
      "75%          3.40       0.73    11.10     6.00  \n",
      "max          4.01       2.00    14.90     8.00  \n",
      "range        1.27       1.67     6.50     5.00  \n",
      "var          0.02       0.03     1.14     0.65  \n",
      "skew         0.19       2.43     0.86     0.22  \n",
      "kurtosis     0.81      11.72     0.20     0.30  \n"
     ]
    }
   ],
   "source": [
    "# Add additional statistics for each column\n",
    "stats.loc['range'] = stats.loc['max'] - stats.loc['min']\n",
    "stats.loc['var'] = df.var().round(2) \n",
    "stats.loc['skew'] = df.skew().round(2)\n",
    "stats.loc['kurtosis'] = df.kurtosis().round(2) #.round(2)는 소수점 이하 두자리로 반올림\n",
    "\n",
    "# Print the results\n",
    "print(stats)"
   ]
  },
  {
   "cell_type": "markdown",
   "id": "13b34dde",
   "metadata": {},
   "source": [
    "- #### 왜도 (skewness): 열에서 값 분포의 비대칭성을 측정하는 값. 양수 기울기는 데이터가 오른쪽으로 기울어져 있음을 나타내고 (오른쪽 꼬리가 더 길어짐), <br/><br/>음수 기울기는 데이터가 왼쪽으로 기울어져 있음을 표현(왼쪽 꼬리가 더 길어짐)"
   ]
  },
  {
   "cell_type": "code",
   "execution_count": 15,
   "id": "4e5240c8",
   "metadata": {},
   "outputs": [
    {
     "data": {
      "image/jpeg": "[encoded data removed]",
      "text/plain": [
       "<IPython.core.display.Image object>"
      ]
     },
     "execution_count": 15,
     "metadata": {},
     "output_type": "execute_result"
    }
   ],
   "source": [
    "Image(\"C:/Users/katenam/DataDrivenReport/skewness.jpg\")"
   ]
  },
  {
   "cell_type": "markdown",
   "id": "02d0de06",
   "metadata": {},
   "source": [
    "- #### 첨도 (kurtois): 열에서 값 분포의 최고점을 측정하는 척도, 양수 첨도값은 데이터가 정규 분포보다 첨도가 높음을 나타내고, 음수 첨도값은 데이터가 <br/><br/>정규 분포보다 첨도가 낮음을 나타낸다."
   ]
  },
  {
   "cell_type": "code",
   "execution_count": 17,
   "id": "e2e3769a",
   "metadata": {},
   "outputs": [
    {
     "data": {
      "image/jpeg": "[encoded data removed]",
      "text/plain": [
       "<IPython.core.display.Image object>"
      ]
     },
     "execution_count": 17,
     "metadata": {},
     "output_type": "execute_result"
    }
   ],
   "source": [
    "Image(\"C:/Users/katenam/DataDrivenReport/kurtosis.jpg\")"
   ]
  },
  {
   "cell_type": "markdown",
   "id": "d9c7ff28",
   "metadata": {},
   "source": [
    "- #### 왜도가 0 첨도가 1일 경우 완전한 정규분포라고 본다.\n",
    "- #### Kline(2005)은 왜도의 기준을 절대값 3을 초과하지 않고, 첨도는 절대값 8또는 10을 초과하지 않으면 정규분포로 볼 수 있다고 제시하였다."
   ]
  },
  {
   "cell_type": "markdown",
   "id": "39d489e8",
   "metadata": {},
   "source": [
    "### 2) 상관관계\n",
    "- #### 여러 변수간의 상관관계를 시각화하고 어떤 속성이 더 강하거나 약한 관계를 갖는지에 대한 인사이트를 얻어보자"
   ]
  },
  {
   "cell_type": "code",
   "execution_count": 18,
   "id": "5d3473a9",
   "metadata": {},
   "outputs": [
    {
     "data": {
      "image/png": "[encoded data removed]",
      "text/plain": [
       "<Figure size 864x720 with 2 Axes>"
      ]
     },
     "metadata": {
      "needs_background": "light"
     },
     "output_type": "display_data"
    }
   ],
   "source": [
    "# compute the correlation matrix\n",
    "corr = df.corr()\n",
    "\n",
    "# Generate a heatmap to visualize the correlation matrix\n",
    "plt.figure(figsize = (12,10))\n",
    "sns.heatmap(corr, annot=True, cmap='coolwarm')\n",
    "plt.show()"
   ]
  },
  {
   "cell_type": "markdown",
   "id": "f80c2dfd",
   "metadata": {},
   "source": [
    "- #### 위의 히트맵 결과 와인의 품질(quality)와 관련하여 alcohol 변수가 강한 양의 상관관계를 가지고 volatile acidity와 강한 음의 상관관계를 갖는다.\n",
    "- #### 그러므로 와인의 품질을 예측할 때 고려해야 할 중요한 변수는 alcohol과 volatile acidity이다. "
   ]
  },
  {
   "cell_type": "markdown",
   "id": "58f4fd13",
   "metadata": {},
   "source": [
    "## 2. 가설검정\n",
    "### 1) 일표본 t-검정 (one sample t-test)\n",
    "- #### 하나의 변수에 대한 측정값이며 표본 평균을 알려진 모집단 평균과 비교하는 데 사용되는 통계검정 방법이다. \n",
    "- #### 표본 평균과 모집단 평균 사이에 유의미한 차이가 있는지 판단하는 데 사용한다."
   ]
  },
  {
   "cell_type": "markdown",
   "id": "d6eabfaf",
   "metadata": {},
   "source": [
    "#### 예제)\n",
    "- #### 특정 학교 학생의 평균 키가 전국 학생의 평균 키와 유의미한 차이가 있는지 알고 싶다고 가정해보자. \n",
    "- #### 일표본 t-검정을 사용하여 표본 평균(특정 학교 학생의 키)을 모집단 평균(전국 학생의 평균의 키)과 비교할 수 있다. "
   ]
  },
  {
   "cell_type": "markdown",
   "id": "73de4367",
   "metadata": {},
   "source": [
    "#### 귀무가설: 특정 학교 학생의 평균 키가 전국 학생의 평균 키와 차이가 없다.\n",
    "#### 대립가설: 특정 학교 학생의 평균 키가 전국 학생의 평균 키와 차이가 있다."
   ]
  },
  {
   "cell_type": "code",
   "execution_count": 1,
   "id": "69b12592",
   "metadata": {},
   "outputs": [],
   "source": [
    "import pandas as pd\n",
    "import numpy as np\n",
    "from scipy.stats import ttest_1samp"
   ]
  },
  {
   "cell_type": "code",
   "execution_count": 2,
   "id": "d0084fcf",
   "metadata": {},
   "outputs": [],
   "source": [
    "heights = [165, 170, 175, 180, 165, 170, 165, 175, 170, 175, 180, 180, 165, 170, 170, 170, 175, 170, 175, 180]"
   ]
  },
  {
   "cell_type": "code",
   "execution_count": 3,
   "id": "fb79ba04",
   "metadata": {},
   "outputs": [
    {
     "name": "stdout",
     "output_type": "stream",
     "text": [
      "Sample mean: 172.25\n"
     ]
    }
   ],
   "source": [
    "sample_mean = np.mean(heights)\n",
    "print(\"Sample mean:\", sample_mean)"
   ]
  },
  {
   "cell_type": "code",
   "execution_count": null,
   "id": "3cd1f7b4",
   "metadata": {},
   "outputs": [],
   "source": [
    "from scipy import stats\n",
    "\n",
    "# Calculate sample mean and standard deviation\n",
    "sample_mean = np.mean(heights)\n",
    "sample_std = np.std(heights, ddof=1)\n",
    "\n",
    "# Calculate the standard error\n",
    "se = sample_std / np.sqrt(len(sample))\n",
    "\n",
    "t_statistic = (sample_mean - population_mean) / se\n",
    "\n",
    "print(t_statistic)\n",
    "\n",
    "def calculate_one_sample_t_statistic(sample, population_mean):\n",
    "    # Calculate sample mean and standard deviation\n",
    "    sample_mean = np.mean(sample)\n",
    "    sample_std = np.std(sample, ddof=1)  # Use ddof=1 for sample standard deviation\n",
    "\n",
    "    # Calculate the standard error\n",
    "    se = sample_std / np.sqrt(len(sample))\n",
    "\n",
    "    # Calculate the t-statistic\n",
    "    t_statistic = (sample_mean - population_mean) / se\n",
    "\n",
    "    return t_statistic\n",
    "\n",
    "# Example usage:\n",
    "sample = np.array([23, 25, 28, 32, 35])\n",
    "population_mean = 30\n",
    "\n",
    "t_statistic = calculate_one_sample_t_statistic(sample, population_mean)\n",
    "\n",
    "# Degrees of freedom\n",
    "df = len(sample) - 1\n",
    "\n",
    "# Two-tailed p-value\n",
    "p_value = 2 * (1 - stats.t.cdf(np.abs(t_statistic), df=df))\n",
    "\n",
    "print(f\"One-sample T-statistic: {t_statistic}\")\n",
    "print(f\"P-value: {p_value}\")\n"
   ]
  },
  {
   "cell_type": "markdown",
   "id": "e5a28f63",
   "metadata": {},
   "source": [
    "- #### 특정 학교에 재학 중인 학생 20명의 평균이 172.25cm라는 것을 알 수 있다.\n",
    "- #### 그렇다면 전국 학생의 평균 키가 175cm라고 가정해보자. 표본 평균이 모집단 평균과 유의하게 다른지 확인하기 위해 일표본 t-검정을 수행한다."
   ]
  },
  {
   "cell_type": "code",
   "execution_count": 4,
   "id": "6cf2a3af",
   "metadata": {},
   "outputs": [
    {
     "name": "stdout",
     "output_type": "stream",
     "text": [
      "t-statistic: -2.3424076306982147\n",
      "p-value: 0.03020119503702702\n"
     ]
    }
   ],
   "source": [
    "t_statistic, p_value = ttest_1samp(heights, 175) \n",
    "\n",
    "print(\"t-statistic:\", t_statistic)\n",
    "print(\"p-value:\", p_value)"
   ]
  },
  {
   "cell_type": "markdown",
   "id": "aa258a3c",
   "metadata": {},
   "source": [
    "- #### t-검정통계량은 -2.34, p-값은 0.03이 나왔다.\n",
    "- #### t-검정통계량은 표본 평균과 모집단 평균의 차이를 표준 오차 단위로 측정한 값이다.\n",
    "- #### p-값은 귀무가설이 참이라고 가정할 때 관찰한 값보다 극단적이거나 더 극단적인 t-검정통계량을 얻을 확률이다.\n",
    "- #### 이 예시에서 p-값이 0.05(일반적으로 사용되는 유의 수준)보다 작으므로 귀무가설을 기각하고 특정 학교 학생의 평균 키가 전국 학생의 평균 키와 <br/><br/>유의미하게 다른다는 결론을 내릴 수 있다."
   ]
  },
  {
   "cell_type": "markdown",
   "id": "2f3acc8c",
   "metadata": {},
   "source": [
    "#### 참고) 라이브러리 안쓰고 직접 풀어서 구한 코드"
   ]
  },
  {
   "cell_type": "code",
   "execution_count": 6,
   "id": "f606c85f",
   "metadata": {},
   "outputs": [
    {
     "name": "stdout",
     "output_type": "stream",
     "text": [
      "t-statistic: -2.3424076306982147\n",
      "p-value: 0.030201195037026896\n"
     ]
    }
   ],
   "source": [
    "from scipy import stats\n",
    "\n",
    "# Calculate sample mean and standard deviation\n",
    "sample_mean = np.mean(heights)\n",
    "sample_std = np.std(heights, ddof=1)\n",
    "\n",
    "# Calculate the standard error\n",
    "se = sample_std / np.sqrt(len(heights))\n",
    "\n",
    "population_mean = 175\n",
    "t_statistic = (sample_mean - population_mean) / se\n",
    "\n",
    "# Degrees of freedom\n",
    "df = len(heights) - 1\n",
    "\n",
    "p_value = 2 * (1 - stats.t.cdf(np.abs(t_statistic), df=df))\n",
    "\n",
    "print(\"t-statistic:\", t_statistic)\n",
    "print(\"p-value:\", p_value)"
   ]
  },
  {
   "cell_type": "markdown",
   "id": "366bd41a",
   "metadata": {},
   "source": [
    "### 2) 이표본 t-검정 (two sample t-test)\n",
    "- #### 두 개의 변수에 대한 측정값\n",
    "- #### 두 개의 독립적인 모집단에서 추출된 표본을 이용하여 두 집단의 모평균을 비교하는 검정이다."
   ]
  },
  {
   "cell_type": "markdown",
   "id": "1ba39957",
   "metadata": {},
   "source": [
    "- #### 두 학생 그룹인 A그룹과 B그룹의 평균 키를 비교한다고 가정해보자. \n",
    "- #### 평균 160cm, 표준편차 10cm인 그룹 A에 대해 30개의 키 데이터를 랜덤으로 생성하고 평균 170cm, 표준편차 8cm인 그룹 B에 대해 25개의 키 데이터를 <br/><br/> 랜덤으로 생성한 다음 이 두 그룹의 평균 키에 통계적으로 유의미한 차이가 있는지 확인해보자."
   ]
  },
  {
   "cell_type": "code",
   "execution_count": 7,
   "id": "7f7870b3",
   "metadata": {},
   "outputs": [],
   "source": [
    "np.random.seed(14)\n",
    "\n",
    "#Generate heights for Group A and Group B\n",
    "group_a_heights = np.random.normal(160, 10, 30)\n",
    "group_b_heights = np.random.normal(170, 8, 25)"
   ]
  },
  {
   "cell_type": "markdown",
   "id": "1662e3c2",
   "metadata": {},
   "source": [
    "- #### t-검정통계량은 두 그룹의 평균 차이를 나타내고 평균 오차로 표준화된다.\n",
    "- #### t-검정통계량이 0보다 크면 그룹 A가 그룹 B보다 평균이 더 높음을 나타내고 0보다 작으면 그룹 B가 그룹 A보다 평균이 더 높음을 나타낸다. \n",
    "- #### p-값은 귀무가설(두 그룹 평균 사이에 차이가 없다)이 참이라고 가정할 때 계산된 것과 같은 극단적인 t-검정통계량이 관찰될 확률을 나타낸다. \n",
    "- #### p-값이 작으면 (일반적으로 0.05미만) 관찰된 평균 차이가 우연에 의한 것일 가능성이 낮다는 것을 나타내므로 귀무가설을 기각한다. "
   ]
  },
  {
   "cell_type": "code",
   "execution_count": 8,
   "id": "21ba612a",
   "metadata": {},
   "outputs": [
    {
     "name": "stdout",
     "output_type": "stream",
     "text": [
      "T-statistic: -3.069892982872516\n",
      "P-value: 0.0033731880990274534\n"
     ]
    }
   ],
   "source": [
    "from scipy.stats import ttest_ind\n",
    "\n",
    "# Perform two-sample t-test\n",
    "t_stat, p_val = ttest_ind(group_a_heights,\n",
    "group_b_heights)\n",
    "\n",
    "# Print the results\n",
    "print(\"T-statistic:\", t_stat)\n",
    "print(\"P-value:\", p_val)"
   ]
  },
  {
   "cell_type": "markdown",
   "id": "440d7088",
   "metadata": {},
   "source": [
    "#### 결과)\n",
    "- #### t-검정통계량이 -3.07이고 p-값이 0.0034. 이는 그룹 B의 평균 키가 그룹 A의 평균 키보다 유의 수준 0.05에서 유의미하게 높다는 것을 의미한다.\n",
    "- #### 딸라서 두 그룹의 키에 통계쩍으로 유의미한 차이가 있따는 결론을 내릴 수 있다. "
   ]
  },
  {
   "cell_type": "markdown",
   "id": "8db10f16",
   "metadata": {},
   "source": [
    "### 3) 대응표본 t-검정 (paired sample t-test)\n",
    "- #### 두 개의 관련된 변수에 대한 측정값\n",
    "- #### 서로 대응되는 집단간 차이를 분석하는 방법이다."
   ]
  },
  {
   "cell_type": "markdown",
   "id": "f1ef50df",
   "metadata": {},
   "source": [
    "#### 예제)\n",
    "- #### 새로운 교육 프로그램이 특정 업무에서 직원의 성과를 향상시킨다는가설을  테스트하고 싶다고 가정해보자.\n",
    "- #### 교육 프로그램 전후에 직원 10명의 성과를 측정하고 점수에 유의미한 차이가 있는지 확인하고자 한다.\n",
    "- #### 이를 위해 대응표본 t-검정을 사용할 수 있다. "
   ]
  },
  {
   "cell_type": "code",
   "execution_count": 1,
   "id": "3fa9a4e7",
   "metadata": {},
   "outputs": [
    {
     "name": "stdout",
     "output_type": "stream",
     "text": [
      "t-statistic: -7.8881570460237285\n",
      "p-값:0.00002\n"
     ]
    }
   ],
   "source": [
    "import numpy as np\n",
    "from scipy.stats import ttest_rel\n",
    "\n",
    "before_scores = np.array([62, 75, 85, 79, 67, 74, 80, 60, 65, 72])\n",
    "after_scores = np.array([72, 78, 91, 85, 70, 80, 88, 65, 70, 82])\n",
    "\n",
    "t_statistic, p_value = ttest_rel(before_scores, after_scores)\n",
    "\n",
    "print(\"t-statistic:\", t_statistic)\n",
    "print(f\"p-값:{p_value:0.5f}\") # print 다음에 나오는 f는 f-string 포맷이라고 하는데 중괄호 ({}) 안의 변수를 내가 원하는 방식으로 출력할 때 쓰인다."
   ]
  },
  {
   "cell_type": "markdown",
   "id": "0f8d567e",
   "metadata": {},
   "source": [
    "#### 결과)\n",
    "- #### t-검정통계량이 -7.88, p-값 0.00002 이므로 귀무가설을 기각하고 교육 프로그램 전후에 직원 성관에 유의미한 차이가 있다는 결론을 내릴 수 있다. "
   ]
  },
  {
   "cell_type": "markdown",
   "id": "579d6c33",
   "metadata": {},
   "source": [
    "### 4) 카이제곱검정 (chi-squred test)\n",
    "- #### 두 개 이상의 범주형 변수에 대한 도수 분포\n",
    "- #### 관찰된 빈도가 기대되는 빈도와 유의하게 다른지를 검증하는 방법이다."
   ]
  },
  {
   "cell_type": "markdown",
   "id": "7350691f",
   "metadata": {},
   "source": [
    "#### 예제)\n",
    "- #### 새로운 광고 캠페인이 A 제품에 대한 고객의 선호도에 영향을 미친다는 가설을 테스트하고 싶다고 가정해보자.\n",
    "- #### 광고 캠페인 전후에 100명의 고객을 대상으로 설문조사를 실시하여 제품 선호 여부를 조사하면서, A 제품을 선호하는 고객의 비율에 유의미한 <br/><br/> 차이가 있는지 확인하고자 한다.\n",
    "- #### 이를 위해 카이제곱검정을 사용한다."
   ]
  },
  {
   "cell_type": "code",
   "execution_count": 1,
   "id": "34e8936a",
   "metadata": {},
   "outputs": [
    {
     "name": "stdout",
     "output_type": "stream",
     "text": [
      "chi-제곱 통계: 7.292929292929292\n",
      "p-값: 0.006922651100971638\n"
     ]
    }
   ],
   "source": [
    "import numpy as np\n",
    "from scipy.stats import chi2_contingency\n",
    "\n",
    "before = np.array([35, 65])\n",
    "after = np.array([55, 45])\n",
    "\n",
    "observed = np.array([before, after])\n",
    "\n",
    "chi2_statistic, p_value, dof, expected = chi2_contingency(observed)\n",
    "\n",
    "print(\"chi-제곱 통계:\", chi2_statistic)\n",
    "print(\"p-값:\", p_value)"
   ]
  },
  {
   "cell_type": "markdown",
   "id": "efb75ab3",
   "metadata": {},
   "source": [
    "#### 결과)\n",
    "- #### p-값이 0.05 미만 (95% 신뢰 수준 가정)이므로 귀무가설을 기각하고 광고 캠페인 전후에 제품을 선호하는 고객의 비율에 유의미한 차이가 있다."
   ]
  },
  {
   "cell_type": "markdown",
   "id": "52953033",
   "metadata": {},
   "source": [
    "### 5) 분산분석검정 (ANOVA)\n",
    "- #### 하나의 연속형 변수와 하나 이상의 범주형 변수에 대한 측정값\n",
    "- #### 3개 이상의 그룹 평균 간에 유의미한 차이가 있는지 확인하는데 사용하는 검정 방식"
   ]
  },
  {
   "cell_type": "markdown",
   "id": "be54b07b",
   "metadata": {},
   "source": [
    "#### 예제)\n",
    "- #### 키우고 있는 식물이 a, b, c 세 그룹으로 나뉘어 있다고 가정해보자. 각 그룹에 있는 식물의 평균 높이에 차이가 있는지 알고싶다. \n",
    "- #### 이를 위해 분산분석 검정을 한다. "
   ]
  },
  {
   "cell_type": "markdown",
   "id": "b27c4915",
   "metadata": {},
   "source": [
    "- #### 분산분석검정을 수행하려면 먼저 각 그룹에서 각 식물의 키를 측정한다.\n",
    "- #### 그런 다음 각 그룹에 있는 식물의 평균 높이를 계산하고 모든 식물의 키 변화를 계산한다.\n",
    "- #### 다음으로 F-검정통계량이라는 것을 계산하여 높이 변화 중 얼마나 많은 부분이 그룹 간의 차이로 인한 것인지, <br/><br/> 그리고 얼마나 많은 부분이 그룹 내의 차이로 인한 것인지를 알 수 있다.\n",
    "- #### F-검정통계량이 충분히 크면 그룹의 평균에 유의미한 차이가 있다는 결론을 내릴 수 있다.\n",
    "- #### 이는 그룹 간의 키 타이가 우연에 의한 것이 아니라는 것을 의미한다. "
   ]
  },
  {
   "cell_type": "code",
   "execution_count": 2,
   "id": "c9b2cb5d",
   "metadata": {},
   "outputs": [
    {
     "name": "stdout",
     "output_type": "stream",
     "text": [
      "F statistic: 4.5057471264367805\n",
      "P-value: 0.034701307888476286\n"
     ]
    }
   ],
   "source": [
    "import scipy.stats as stats\n",
    "\n",
    "# define the data\n",
    "group_a = [10, 12, 13, 14, 15]\n",
    "group_b = [12, 13, 14, 15, 16]\n",
    "group_c = [14, 15, 16, 17, 18]\n",
    "\n",
    "# perform the ANOVA test\n",
    "f_statistic, p_value = stats.f_oneway(group_a, group_b, group_c)\n",
    "\n",
    "# print the results\n",
    "print(\"F statistic:\", f_statistic)\n",
    "print(\"P-value:\", p_value)"
   ]
  },
  {
   "cell_type": "markdown",
   "id": "51e3f1b6",
   "metadata": {},
   "source": [
    "## 3. 선형회귀분석\n",
    "### 1) 단순선형회귀(simple linear regression)\n"
   ]
  },
  {
   "cell_type": "markdown",
   "id": "4ad33938",
   "metadata": {},
   "source": [
    "#### 예제)\n",
    "- #### 일주일에 학원을 가는 횟수와 수능 성적 사이에 관계가 있는지 알고 싶다고 가정해보자. \n",
    "- #### 시험 점수(exam_score)를 종속변수로 학원 개수(num_tutors)를 독립변수 하나로 넣어보자."
   ]
  },
  {
   "cell_type": "code",
   "execution_count": 2,
   "id": "ba396918",
   "metadata": {},
   "outputs": [
    {
     "name": "stdout",
     "output_type": "stream",
     "text": [
      "                            OLS Regression Results                            \n",
      "==============================================================================\n",
      "Dep. Variable:             exam_score   R-squared:                       0.010\n",
      "Model:                            OLS   Adj. R-squared:                 -0.113\n",
      "Method:                 Least Squares   F-statistic:                   0.08391\n",
      "Date:                Fri, 08 Dec 2023   Prob (F-statistic):              0.779\n",
      "Time:                        16:53:07   Log-Likelihood:                -34.975\n",
      "No. Observations:                  10   AIC:                             73.95\n",
      "Df Residuals:                       8   BIC:                             74.56\n",
      "Df Model:                           1                                         \n",
      "Covariance Type:            nonrobust                                         \n",
      "==============================================================================\n",
      "                 coef    std err          t      P>|t|      [0.025      0.975]\n",
      "------------------------------------------------------------------------------\n",
      "Intercept     78.9275      7.055     11.188      0.000      62.659      95.196\n",
      "num_tutors     0.9855      3.402      0.290      0.779      -6.860       8.831\n",
      "==============================================================================\n",
      "Omnibus:                        0.505   Durbin-Watson:                   2.500\n",
      "Prob(Omnibus):                  0.777   Jarque-Bera (JB):                0.537\n",
      "Skew:                          -0.340   Prob(JB):                        0.764\n",
      "Kurtosis:                       2.091   Cond. No.                         6.22\n",
      "==============================================================================\n",
      "\n",
      "Notes:\n",
      "[1] Standard Errors assume that the covariance matrix of the errors is correctly specified.\n"
     ]
    },
    {
     "name": "stderr",
     "output_type": "stream",
     "text": [
      "C:\\Users\\katenam\\anaconda3\\lib\\site-packages\\patsy\\util.py:672: FutureWarning: is_categorical_dtype is deprecated and will be removed in a future version. Use isinstance(dtype, CategoricalDtype) instead\n",
      "  return _pandas_is_categorical_dtype(dt)\n",
      "C:\\Users\\katenam\\anaconda3\\lib\\site-packages\\patsy\\util.py:672: FutureWarning: is_categorical_dtype is deprecated and will be removed in a future version. Use isinstance(dtype, CategoricalDtype) instead\n",
      "  return _pandas_is_categorical_dtype(dt)\n",
      "C:\\Users\\katenam\\anaconda3\\lib\\site-packages\\patsy\\util.py:672: FutureWarning: is_categorical_dtype is deprecated and will be removed in a future version. Use isinstance(dtype, CategoricalDtype) instead\n",
      "  return _pandas_is_categorical_dtype(dt)\n",
      "C:\\Users\\katenam\\AppData\\Roaming\\Python\\Python39\\site-packages\\scipy\\stats\\_stats_py.py:1806: UserWarning: kurtosistest only valid for n>=20 ... continuing anyway, n=10\n",
      "  warnings.warn(\"kurtosistest only valid for n>=20 ... continuing \"\n"
     ]
    }
   ],
   "source": [
    "import pandas as pd\n",
    "import statsmodels.formula.api as smf\n",
    "\n",
    "# Create a DataFrame with the dependent variable and independent variables\n",
    "data = {'exam_score': [85, 72, 90, 65, 78, 87, 92, 80, 75, 84],\n",
    "        'num_tutors': [1, 2, 3, 1, 2, 3, 1, 2, 3, 1]}\n",
    "df = pd.DataFrame(data)\n",
    "\n",
    "# Fit a multiple linear regression model\n",
    "model = smf.ols('exam_score ~ num_tutors', data=df).fit()\n",
    "\n",
    "# Print the model summary\n",
    "print(model.summary())"
   ]
  },
  {
   "cell_type": "markdown",
   "id": "59e56664",
   "metadata": {},
   "source": [
    "- #### smf.ols는 최소제곱법(ordinary least squares)라는 선형회귀분석 방법이다.\n",
    "- #### fit()은 모델은 fitting하는 함수이며 이를 통해 모델이 데이터에 적합하도록 계수를 추정한다."
   ]
  },
  {
   "cell_type": "markdown",
   "id": "b7e52343",
   "metadata": {},
   "source": [
    "#### 결과)\n",
    "- #### num_tutors 변수의 p-값이 0.05보다 훨씬 큰 0.779이다. \n",
    "- #### 학원 개수(num_tutors)와 시험 점수(exam_score)간의 관계가 통계적으로 유의미하지 않다는 것을 나타낸다. "
   ]
  },
  {
   "cell_type": "markdown",
   "id": "e2a9ff30",
   "metadata": {},
   "source": [
    "### 2) 다중선형회귀(multiple linear regression)"
   ]
  },
  {
   "cell_type": "code",
   "execution_count": 3,
   "id": "55a40895",
   "metadata": {},
   "outputs": [
    {
     "name": "stdout",
     "output_type": "stream",
     "text": [
      "                            OLS Regression Results                            \n",
      "==============================================================================\n",
      "Dep. Variable:             exam_score   R-squared:                       0.532\n",
      "Model:                            OLS   Adj. R-squared:                  0.398\n",
      "Method:                 Least Squares   F-statistic:                     3.972\n",
      "Date:                Fri, 08 Dec 2023   Prob (F-statistic):             0.0703\n",
      "Time:                        16:53:11   Log-Likelihood:                -31.235\n",
      "No. Observations:                  10   AIC:                             68.47\n",
      "Df Residuals:                       7   BIC:                             69.38\n",
      "Df Model:                           2                                         \n",
      "Covariance Type:            nonrobust                                         \n",
      "=================================================================================\n",
      "                    coef    std err          t      P>|t|      [0.025      0.975]\n",
      "---------------------------------------------------------------------------------\n",
      "Intercept        62.2891      7.903      7.881      0.000      43.601      80.978\n",
      "num_tutors       -0.1988      2.538     -0.078      0.940      -6.200       5.802\n",
      "family_wealth     0.0003    9.6e-05      2.791      0.027    4.09e-05       0.000\n",
      "==============================================================================\n",
      "Omnibus:                        0.001   Durbin-Watson:                   2.271\n",
      "Prob(Omnibus):                  1.000   Jarque-Bera (JB):                0.204\n",
      "Skew:                          -0.002   Prob(JB):                        0.903\n",
      "Kurtosis:                       2.300   Cond. No.                     2.84e+05\n",
      "==============================================================================\n",
      "\n",
      "Notes:\n",
      "[1] Standard Errors assume that the covariance matrix of the errors is correctly specified.\n",
      "[2] The condition number is large, 2.84e+05. This might indicate that there are\n",
      "strong multicollinearity or other numerical problems.\n"
     ]
    },
    {
     "name": "stderr",
     "output_type": "stream",
     "text": [
      "C:\\Users\\katenam\\anaconda3\\lib\\site-packages\\patsy\\util.py:672: FutureWarning: is_categorical_dtype is deprecated and will be removed in a future version. Use isinstance(dtype, CategoricalDtype) instead\n",
      "  return _pandas_is_categorical_dtype(dt)\n",
      "C:\\Users\\katenam\\anaconda3\\lib\\site-packages\\patsy\\util.py:672: FutureWarning: is_categorical_dtype is deprecated and will be removed in a future version. Use isinstance(dtype, CategoricalDtype) instead\n",
      "  return _pandas_is_categorical_dtype(dt)\n",
      "C:\\Users\\katenam\\anaconda3\\lib\\site-packages\\patsy\\util.py:672: FutureWarning: is_categorical_dtype is deprecated and will be removed in a future version. Use isinstance(dtype, CategoricalDtype) instead\n",
      "  return _pandas_is_categorical_dtype(dt)\n",
      "C:\\Users\\katenam\\anaconda3\\lib\\site-packages\\patsy\\util.py:672: FutureWarning: is_categorical_dtype is deprecated and will be removed in a future version. Use isinstance(dtype, CategoricalDtype) instead\n",
      "  return _pandas_is_categorical_dtype(dt)\n",
      "C:\\Users\\katenam\\AppData\\Roaming\\Python\\Python39\\site-packages\\scipy\\stats\\_stats_py.py:1806: UserWarning: kurtosistest only valid for n>=20 ... continuing anyway, n=10\n",
      "  warnings.warn(\"kurtosistest only valid for n>=20 ... continuing \"\n"
     ]
    }
   ],
   "source": [
    "import statsmodels.formula.api as smf\n",
    "\n",
    "# Create a DataFrame with the dependent variable and independent variables\n",
    "data = {'exam_score': [85, 72, 90, 65, 78, 87, 92, 80, 75, 84],\n",
    "        'num_tutors': [1, 2, 3, 1, 2, 3, 1, 2, 3, 1],\n",
    "        'family_wealth': [50000, 75000, 100000, 30000, 50000, 70000, 100000, 80000, 60000, 90000]}\n",
    "df = pd.DataFrame(data)\n",
    "\n",
    "# Fit a multiple linear regression model\n",
    "model = smf.ols('exam_score ~ num_tutors + family_wealth', data=df).fit()\n",
    "\n",
    "# Print the model summary\n",
    "print(model.summary())"
   ]
  },
  {
   "cell_type": "markdown",
   "id": "0af627f3",
   "metadata": {},
   "source": [
    "#### 결과)\n",
    "- #### num_tutors 변수의 p-값은 0.94로 유의수준 0.05보다 크기때문에 exam_score와의 관계가 유의미하다고 볼 수 없지만, <br/><br/> 재산의 계수는 0.0003이고, p-값이 유의 수준 0.05보다 작은 0.027이므로 재산과 시험 점수 간의 관계는 통계적으로 유의미하다고 볼 수 있다.\n",
    "- #### 즉, 재산이 한 단위 증가 시 시험 점수는 0.0003점 올라간다고 할 수 있다."
   ]
  },
  {
   "cell_type": "markdown",
   "id": "bee509b9",
   "metadata": {},
   "source": [
    "## 4. 분류예측모델\n",
    "- #### 선형회귀분석은 유용하지만 종속변수 데이터가 연속형 데이터인 경우에만 쓸 수 있다는 점에서의 한계까 있다.\n",
    "- #### 종속변수가 합격/불합격 여부처럼 이진형 변수인 경우에는 선형회귀를 적용 할 수 없다는 뜻이다."
   ]
  },
  {
   "cell_type": "markdown",
   "id": "76a375ac",
   "metadata": {},
   "source": [
    "### 1) 로지스틱 회귀 (Logistic regression)\n",
    "- #### 예측 분석을 위한 회귀분석 중에서 특히 종속 변수가 이분형일 때 수행할 수 있는 회귀 분석 기법의 한 종류이다.\n",
    "- #### 로지스틱 회귀는 어떤 사람이 시험에 합격할지 불합격할지와 같이 두 가지 이상의 가능성 있는 결과를 예측하는 데 관심이 있다. \n",
    "- #### 이를 위해 시그모이드(sigmoid) 함수라는 특수 함수를 사용한다. \n",
    "- #### 시그모이드 함수는 음의 무한대부터 양의 무한대까지의 값을 가지는 입력변수를 0부터 1사이의 값을 가지는 출력 변수로 변화하는 함수\n",
    "- #### 예를 들어 어떤 사람이 공부한 시간을 기준으로 시험에 합격할지 불합격할지 예측하고 싵다고 한다면 로지스틱 회귀를 사용하여 공부한 시간을 고려하여 <br/><br/> 시험에 합격할 확률을 예측하는 모델을 만들 수 있다.\n",
    "- #### 예측된 확률이 특정 임계값 이상이면 그 사람이 시험에 합격할 가능성이 높고, 임계값 미만이면 불합격할 가능성이 높다고 말할 수 있다."
   ]
  },
  {
   "cell_type": "markdown",
   "id": "a5794e47",
   "metadata": {},
   "source": [
    "#### 방법)\n",
    "#### a. 데이터 분리\n",
    "- #### 예측을 할 때는 데이터를 훈련 데이터와 테스트 데이터로 나눠준다."
   ]
  },
  {
   "cell_type": "code",
   "execution_count": 12,
   "id": "048867bb",
   "metadata": {},
   "outputs": [
    {
     "data": {
      "image/jpeg": "[encoded data removed]",
      "text/plain": [
       "<IPython.core.display.Image object>"
      ]
     },
     "execution_count": 12,
     "metadata": {},
     "output_type": "execute_result"
    }
   ],
   "source": [
    "from IPython.display import Image\n",
    "Image(\"C:/Users/katenam/DataDrivenReport/splitdata.jpg\")"
   ]
  },
  {
   "cell_type": "markdown",
   "id": "cbd28600",
   "metadata": {},
   "source": [
    "#### b.모델 정확도 측정\n",
    "- #### 혼동행렬(confusion matrix) \n",
    "- #### ROC곡선"
   ]
  },
  {
   "cell_type": "markdown",
   "id": "b4a1290a",
   "metadata": {},
   "source": [
    "#### 예제 직접 만들어 사용)\n",
    "- #### 공부 시간(time_studied)과 평균 수면 시간(avg_sleep_hours) 및 합격 여부(pass)라는 세 가지 변수가 포함된 데이터셋을 만든다.\n",
    "- #### np.random.seed(42)는 넘파이 라이브러리에서 난수 생성기를 만드는 것이다.\n",
    "- #### 공부 시간(time_studied)과 평균 수면 시간(avg_sleep_hours)을 각각 1천 개씩 무작위로 생성하고 합격 여부(passing)는 시그모이드 함수를 활용하여 <br/><br/> 1과 0으로 구분해서 생성했다.\n"
   ]
  },
  {
   "cell_type": "code",
   "execution_count": 1,
   "id": "7bef2ead",
   "metadata": {},
   "outputs": [],
   "source": [
    "import numpy as np\n",
    "import pandas as pd\n",
    "from sklearn.linear_model import LogisticRegression\n",
    "from sklearn.metrics import accuracy_score, roc_curve, roc_auc_score, confusion_matrix\n",
    "from sklearn.model_selection import train_test_split"
   ]
  },
  {
   "cell_type": "code",
   "execution_count": 2,
   "id": "5bde45a6",
   "metadata": {},
   "outputs": [],
   "source": [
    "# create a dataset with two variables\n",
    "np.random.seed(42)\n",
    "time_studied = np.random.randint(0, 10, 1000)\n",
    "avg_sleep_hours = np.random.uniform(4, 10, 1000)\n",
    "passing = np.random.binomial(1, 1 / (1 + np.exp(-time_studied + 2 * avg_sleep_hours - 10)))  # sigmoid function\n",
    "df = pd.DataFrame({'time_studied': time_studied, 'avg_sleep_hours': avg_sleep_hours, 'passing': passing})"
   ]
  },
  {
   "cell_type": "code",
   "execution_count": 3,
   "id": "b81f9676",
   "metadata": {},
   "outputs": [
    {
     "data": {
      "text/plain": [
       "array([6, 3, 7, 4, 6, 9, 2, 6, 7, 4, 3, 7, 7, 2, 5, 4, 1, 7, 5, 1, 4, 0,\n",
       "       9, 5, 8, 0, 9, 2, 6, 3, 8, 2, 4, 2, 6, 4, 8, 6, 1, 3, 8, 1, 9, 8,\n",
       "       9, 4, 1, 3, 6, 7, 2, 0, 3, 1, 7, 3, 1, 5, 5, 9, 3, 5, 1, 9, 1, 9,\n",
       "       3, 7, 6, 8, 7, 4, 1, 4, 7, 9, 8, 8, 0, 8, 6, 8, 7, 0, 7, 7, 2, 0,\n",
       "       7, 2, 2, 0, 4, 9, 6, 9, 8, 6, 8, 7, 1, 0, 6, 6, 7, 4, 2, 7, 5, 2,\n",
       "       0, 2, 4, 2, 0, 4, 9, 6, 6, 8, 9, 9, 2, 6, 0, 3, 3, 4, 6, 6, 3, 6,\n",
       "       2, 5, 1, 9, 8, 4, 5, 3, 9, 6, 8, 6, 0, 0, 8, 8, 3, 8, 2, 6, 5, 7,\n",
       "       8, 4, 0, 2, 9, 7, 5, 7, 8, 3, 0, 0, 9, 3, 6, 1, 2, 0, 4, 0, 7, 0,\n",
       "       0, 1, 1, 5, 6, 4, 0, 0, 2, 1, 4, 9, 5, 6, 3, 6, 7, 0, 5, 7, 4, 3,\n",
       "       1, 5, 5, 0, 8, 5, 2, 3, 3, 2, 9, 2, 2, 3, 6, 3, 8, 0, 7, 6, 1, 7,\n",
       "       0, 8, 8, 1, 6, 9, 2, 6, 9, 8, 3, 0, 1, 0, 4, 4, 6, 8, 8, 2, 2, 2,\n",
       "       3, 7, 5, 7, 0, 7, 3, 0, 7, 3, 5, 7, 3, 2, 8, 2, 8, 1, 1, 1, 5, 2,\n",
       "       8, 3, 0, 3, 0, 4, 3, 7, 7, 6, 2, 0, 0, 2, 5, 6, 5, 5, 5, 2, 5, 7,\n",
       "       1, 4, 0, 0, 4, 2, 3, 2, 0, 0, 4, 5, 2, 8, 4, 7, 0, 4, 2, 0, 3, 4,\n",
       "       6, 0, 2, 1, 8, 9, 5, 9, 2, 7, 7, 1, 5, 6, 1, 9, 1, 9, 0, 7, 0, 8,\n",
       "       5, 6, 9, 6, 9, 2, 1, 8, 7, 9, 6, 8, 3, 3, 0, 7, 2, 6, 1, 1, 6, 5,\n",
       "       2, 8, 9, 5, 9, 9, 5, 0, 3, 9, 5, 5, 4, 0, 7, 4, 4, 6, 3, 5, 3, 2,\n",
       "       6, 7, 3, 1, 9, 2, 0, 7, 2, 9, 6, 9, 4, 9, 4, 6, 8, 4, 0, 9, 9, 0,\n",
       "       1, 5, 8, 7, 4, 0, 6, 4, 5, 6, 2, 9, 2, 4, 5, 8, 4, 0, 3, 4, 9, 9,\n",
       "       4, 6, 3, 0, 4, 6, 9, 9, 5, 4, 3, 1, 3, 9, 9, 2, 9, 0, 7, 4, 3, 7,\n",
       "       6, 1, 0, 3, 7, 1, 2, 0, 0, 2, 4, 2, 0, 0, 7, 9, 1, 2, 1, 2, 6, 0,\n",
       "       9, 7, 9, 9, 9, 1, 2, 8, 6, 3, 9, 4, 1, 7, 3, 8, 4, 8, 3, 9, 4, 8,\n",
       "       7, 2, 0, 2, 3, 1, 0, 6, 7, 6, 4, 0, 6, 6, 8, 2, 8, 0, 0, 3, 8, 5,\n",
       "       2, 0, 3, 8, 2, 8, 6, 3, 2, 9, 4, 4, 2, 8, 3, 4, 3, 4, 6, 8, 6, 4,\n",
       "       9, 9, 6, 9, 4, 2, 6, 1, 8, 9, 9, 0, 5, 6, 7, 9, 8, 1, 9, 1, 4, 4,\n",
       "       5, 2, 7, 0, 5, 3, 0, 6, 8, 3, 3, 5, 2, 5, 6, 9, 9, 2, 6, 2, 1, 9,\n",
       "       3, 7, 8, 6, 0, 2, 8, 0, 8, 7, 0, 5, 4, 5, 9, 4, 5, 4, 4, 3, 2, 2,\n",
       "       3, 8, 1, 8, 0, 0, 4, 5, 5, 2, 6, 8, 9, 7, 5, 7, 4, 7, 9, 3, 9, 7,\n",
       "       9, 1, 4, 8, 3, 5, 0, 8, 0, 4, 3, 2, 5, 1, 2, 4, 8, 1, 9, 7, 1, 4,\n",
       "       6, 7, 0, 5, 0, 1, 0, 4, 9, 8, 5, 0, 0, 1, 8, 2, 0, 4, 6, 5, 0, 4,\n",
       "       4, 5, 2, 4, 6, 4, 4, 4, 9, 9, 2, 0, 4, 8, 0, 2, 3, 0, 0, 7, 1, 7,\n",
       "       6, 9, 9, 1, 5, 5, 2, 1, 0, 5, 4, 8, 0, 6, 4, 4, 1, 2, 6, 5, 1, 5,\n",
       "       1, 1, 1, 2, 1, 3, 8, 5, 0, 7, 6, 9, 2, 0, 4, 3, 9, 7, 0, 9, 0, 3,\n",
       "       7, 4, 1, 5, 4, 1, 2, 8, 6, 6, 5, 7, 3, 7, 3, 7, 8, 2, 2, 1, 9, 2,\n",
       "       2, 4, 4, 1, 9, 5, 4, 5, 0, 4, 8, 9, 1, 0, 9, 8, 9, 8, 8, 5, 7, 0,\n",
       "       9, 3, 0, 7, 0, 2, 3, 7, 5, 9, 6, 7, 1, 9, 7, 2, 6, 2, 6, 1, 9, 5,\n",
       "       2, 2, 8, 6, 4, 9, 6, 8, 0, 6, 5, 9, 8, 0, 3, 8, 3, 9, 2, 8, 1, 3,\n",
       "       5, 1, 7, 7, 0, 2, 9, 8, 4, 5, 3, 9, 1, 7, 5, 4, 8, 0, 4, 5, 4, 5,\n",
       "       5, 6, 3, 7, 6, 8, 6, 2, 2, 7, 4, 3, 7, 5, 1, 3, 3, 5, 5, 0, 7, 5,\n",
       "       2, 8, 1, 7, 9, 2, 4, 5, 9, 5, 3, 2, 3, 0, 3, 0, 0, 9, 5, 4, 3, 2,\n",
       "       0, 5, 1, 7, 9, 4, 6, 9, 1, 7, 1, 3, 0, 4, 8, 0, 8, 7, 5, 6, 2, 0,\n",
       "       4, 1, 4, 7, 8, 1, 2, 2, 0, 7, 5, 7, 8, 4, 2, 4, 4, 4, 2, 9, 3, 8,\n",
       "       9, 8, 1, 7, 7, 6, 7, 2, 5, 0, 6, 0, 8, 0, 0, 6, 1, 4, 7, 7, 2, 6,\n",
       "       2, 5, 5, 2, 6, 2, 7, 9, 3, 0, 3, 6, 3, 5, 8, 0, 4, 6, 0, 3, 5, 1,\n",
       "       9, 4, 9, 0, 5, 5, 3, 7, 3, 7, 7, 4, 3, 1, 2, 2, 3, 3, 9, 4, 3, 9,\n",
       "       7, 5, 5, 7, 6, 9, 9, 7, 1, 8])"
      ]
     },
     "execution_count": 3,
     "metadata": {},
     "output_type": "execute_result"
    }
   ],
   "source": [
    "time_studied"
   ]
  },
  {
   "cell_type": "markdown",
   "id": "710b4d69",
   "metadata": {},
   "source": [
    "- #### 이제 데이터셋을 훈련 세트와 테스트 세트의 두 부분으로 분할한다. \n",
    "- #### 독립변수(features)는 공부 시간(time_studied)과 평균 수면 시간(avg_sleep_hours)을 포함하는 x에 저장되고 종속변수(target)는 합격 여부(passing)인<br/><br/> y에 저장된다."
   ]
  },
  {
   "cell_type": "code",
   "execution_count": 4,
   "id": "1a76df68",
   "metadata": {},
   "outputs": [],
   "source": [
    "# split the dataset into training and testing sets\n",
    "X = df[['time_studied', 'avg_sleep_hours']]\n",
    "y = df['passing']\n",
    "X_train, X_test, y_train, y_test = train_test_split(X, y, test_size=0.3, random_state=42)"
   ]
  },
  {
   "cell_type": "markdown",
   "id": "f347b6f2",
   "metadata": {},
   "source": [
    "- #### 그 다음으로 두 가지 다른 로지스틱회귀 모델을 만들어 보고 비교해보자.\n",
    "- #### 첫 번째 모델인 model1은 공부 시간(time_studied)라는 하나의 독립변수로 단순회귀모형을 만든 것이다. \n",
    "- #### 두 번째 모델인 model2는 두 독립변수 공부 시간(time_studied)과 평균 수면 시간(avg_sleep_hours)으로 적합시켰다."
   ]
  },
  {
   "cell_type": "code",
   "execution_count": 8,
   "id": "75b8167c",
   "metadata": {},
   "outputs": [
    {
     "data": {
      "text/html": [
       "<style>#sk-container-id-2 {color: black;background-color: white;}#sk-container-id-2 pre{padding: 0;}#sk-container-id-2 div.sk-toggleable {background-color: white;}#sk-container-id-2 label.sk-toggleable__label {cursor: pointer;display: block;width: 100%;margin-bottom: 0;padding: 0.3em;box-sizing: border-box;text-align: center;}#sk-container-id-2 label.sk-toggleable__label-arrow:before {content: \"▸\";float: left;margin-right: 0.25em;color: #696969;}#sk-container-id-2 label.sk-toggleable__label-arrow:hover:before {color: black;}#sk-container-id-2 div.sk-estimator:hover label.sk-toggleable__label-arrow:before {color: black;}#sk-container-id-2 div.sk-toggleable__content {max-height: 0;max-width: 0;overflow: hidden;text-align: left;background-color: #f0f8ff;}#sk-container-id-2 div.sk-toggleable__content pre {margin: 0.2em;color: black;border-radius: 0.25em;background-color: #f0f8ff;}#sk-container-id-2 input.sk-toggleable__control:checked~div.sk-toggleable__content {max-height: 200px;max-width: 100%;overflow: auto;}#sk-container-id-2 input.sk-toggleable__control:checked~label.sk-toggleable__label-arrow:before {content: \"▾\";}#sk-container-id-2 div.sk-estimator input.sk-toggleable__control:checked~label.sk-toggleable__label {background-color: #d4ebff;}#sk-container-id-2 div.sk-label input.sk-toggleable__control:checked~label.sk-toggleable__label {background-color: #d4ebff;}#sk-container-id-2 input.sk-hidden--visually {border: 0;clip: rect(1px 1px 1px 1px);clip: rect(1px, 1px, 1px, 1px);height: 1px;margin: -1px;overflow: hidden;padding: 0;position: absolute;width: 1px;}#sk-container-id-2 div.sk-estimator {font-family: monospace;background-color: #f0f8ff;border: 1px dotted black;border-radius: 0.25em;box-sizing: border-box;margin-bottom: 0.5em;}#sk-container-id-2 div.sk-estimator:hover {background-color: #d4ebff;}#sk-container-id-2 div.sk-parallel-item::after {content: \"\";width: 100%;border-bottom: 1px solid gray;flex-grow: 1;}#sk-container-id-2 div.sk-label:hover label.sk-toggleable__label {background-color: #d4ebff;}#sk-container-id-2 div.sk-serial::before {content: \"\";position: absolute;border-left: 1px solid gray;box-sizing: border-box;top: 0;bottom: 0;left: 50%;z-index: 0;}#sk-container-id-2 div.sk-serial {display: flex;flex-direction: column;align-items: center;background-color: white;padding-right: 0.2em;padding-left: 0.2em;position: relative;}#sk-container-id-2 div.sk-item {position: relative;z-index: 1;}#sk-container-id-2 div.sk-parallel {display: flex;align-items: stretch;justify-content: center;background-color: white;position: relative;}#sk-container-id-2 div.sk-item::before, #sk-container-id-2 div.sk-parallel-item::before {content: \"\";position: absolute;border-left: 1px solid gray;box-sizing: border-box;top: 0;bottom: 0;left: 50%;z-index: -1;}#sk-container-id-2 div.sk-parallel-item {display: flex;flex-direction: column;z-index: 1;position: relative;background-color: white;}#sk-container-id-2 div.sk-parallel-item:first-child::after {align-self: flex-end;width: 50%;}#sk-container-id-2 div.sk-parallel-item:last-child::after {align-self: flex-start;width: 50%;}#sk-container-id-2 div.sk-parallel-item:only-child::after {width: 0;}#sk-container-id-2 div.sk-dashed-wrapped {border: 1px dashed gray;margin: 0 0.4em 0.5em 0.4em;box-sizing: border-box;padding-bottom: 0.4em;background-color: white;}#sk-container-id-2 div.sk-label label {font-family: monospace;font-weight: bold;display: inline-block;line-height: 1.2em;}#sk-container-id-2 div.sk-label-container {text-align: center;}#sk-container-id-2 div.sk-container {/* jupyter's `normalize.less` sets `[hidden] { display: none; }` but bootstrap.min.css set `[hidden] { display: none !important; }` so we also need the `!important` here to be able to override the default hidden behavior on the sphinx rendered scikit-learn.org. See: https://github.com/scikit-learn/scikit-learn/issues/21755 */display: inline-block !important;position: relative;}#sk-container-id-2 div.sk-text-repr-fallback {display: none;}</style><div id=\"sk-container-id-2\" class=\"sk-top-container\"><div class=\"sk-text-repr-fallback\"><pre>LogisticRegression()</pre><b>In a Jupyter environment, please rerun this cell to show the HTML representation or trust the notebook. <br />On GitHub, the HTML representation is unable to render, please try loading this page with nbviewer.org.</b></div><div class=\"sk-container\" hidden><div class=\"sk-item\"><div class=\"sk-estimator sk-toggleable\"><input class=\"sk-toggleable__control sk-hidden--visually\" id=\"sk-estimator-id-2\" type=\"checkbox\" checked><label for=\"sk-estimator-id-2\" class=\"sk-toggleable__label sk-toggleable__label-arrow\">LogisticRegression</label><div class=\"sk-toggleable__content\"><pre>LogisticRegression()</pre></div></div></div></div></div>"
      ],
      "text/plain": [
       "LogisticRegression()"
      ]
     },
     "execution_count": 8,
     "metadata": {},
     "output_type": "execute_result"
    }
   ],
   "source": [
    "# fit logistic regression models with one and two variables\n",
    "model1 = LogisticRegression()\n",
    "model1.fit(X_train[['time_studied']], y_train)\n",
    "\n",
    "model2 = LogisticRegression()\n",
    "model2.fit(X_train, y_train)"
   ]
  },
  {
   "cell_type": "markdown",
   "id": "bab0db38",
   "metadata": {},
   "source": [
    "- #### 훈련된 로지스틱회귀 모델을 사용하여 테스트 데이터를 예측해본다.\n",
    "- #### 첫 번째 모델(model1)은 공부 시간만 사용하여 결과를 예측, 두 번째(model2)은 공부 시간과 평균 수면 시간을 모두 사용하여 결과를 예측한다.\n",
    "- #### 예측값은 y_pred1, y_pred2 변수에 저장한다."
   ]
  },
  {
   "cell_type": "code",
   "execution_count": 9,
   "id": "8f59b5cc",
   "metadata": {},
   "outputs": [],
   "source": [
    "import warnings\n",
    "warnings.filterwarnings(\"ignore\")\n",
    "\n",
    "# predict whether a person will pass or fail based on time studied and avg_sleep_hours\n",
    "y_pred1 = model1.predict(X_test[['time_studied']])\n",
    "y_pred2 = model2.predict(X_test)"
   ]
  },
  {
   "cell_type": "markdown",
   "id": "b3f0f935",
   "metadata": {},
   "source": [
    "- #### 그 다음 학습한 로지스틱회귀 모델의 정확도를 계산한다. \n",
    "- #### y_test에는 테스트 세트의 실제 정답이 있고, y_pred1과 y_pred2에는 모델에서 만든 예측값들이 있다.\n",
    "- #### accuracy1에는 테스트 세트의 실제 정답과 공부 시간만으로 만든 모델의 예측값을 비교한 정확도가 계산되어 나오고, <br/><br/>accuracy2네는 테스트 세트의 실제 정답과 공부 시간 과 평균 수면 시간으로 만든 모델의 예측 값을 비교한 정확도가 계산되어 나온다."
   ]
  },
  {
   "cell_type": "code",
   "execution_count": 10,
   "id": "eaa72bb3",
   "metadata": {},
   "outputs": [],
   "source": [
    "# calculate accuracy and confusion matrix\n",
    "accuracy1 = accuracy_score(y_test, y_pred1)\n",
    "accuracy2 = accuracy_score(y_test, y_pred2)"
   ]
  },
  {
   "cell_type": "markdown",
   "id": "a795410d",
   "metadata": {},
   "source": [
    "- #### 그 다음에 모델 평가를 위해 정확도를 구했던 방식과 똑같이 혼동행렬을 작성한다. 그리고 ROC curve를 그려보고 AUC score를 구해본다."
   ]
  },
  {
   "cell_type": "code",
   "execution_count": 11,
   "id": "85dbefc0",
   "metadata": {},
   "outputs": [],
   "source": [
    "cm1 = confusion_matrix(y_test, y_pred1)\n",
    "cm2 = confusion_matrix(y_test, y_pred2)"
   ]
  },
  {
   "cell_type": "code",
   "execution_count": 12,
   "id": "2992eccd",
   "metadata": {},
   "outputs": [],
   "source": [
    "# calculate ROC curve and AUC score\n",
    "fpr1, tpr1, thresholds1 = roc_curve(y_test, model1.predict_proba(X_test[['time_studied']])[:, 1])\n",
    "fpr2, tpr2, thresholds2 = roc_curve(y_test, model2.predict_proba(X_test)[:, 1])\n",
    "\n",
    "auc1 = roc_auc_score(y_test, model1.predict_proba(X_test[['time_studied']])[:, 1])\n",
    "auc2 = roc_auc_score(y_test, model2.predict_proba(X_test)[:, 1])"
   ]
  },
  {
   "cell_type": "code",
   "execution_count": 13,
   "id": "2de4b616",
   "metadata": {},
   "outputs": [
    {
     "name": "stdout",
     "output_type": "stream",
     "text": [
      "Model with time studied only:\n",
      "Accuracy: 0.7266666666666667\n",
      "Confusion Matrix: [[ 83  48]\n",
      " [ 34 135]]\n",
      "AUC: 0.7884050770134152\n",
      "Model with time studied and avg_sleep_hours:\n",
      "Accuracy: 0.8933333333333333\n",
      "Confusion Matrix: [[118  13]\n",
      " [ 19 150]]\n",
      "AUC: 0.9595736031437735\n"
     ]
    }
   ],
   "source": [
    "print('Model with time studied only:')\n",
    "print('Accuracy:', accuracy1)\n",
    "print('Confusion Matrix:', cm1)\n",
    "print('AUC:', auc1)\n",
    "\n",
    "print('Model with time studied and avg_sleep_hours:')\n",
    "print('Accuracy:', accuracy2)\n",
    "print('Confusion Matrix:', cm2)\n",
    "print('AUC:', auc2)"
   ]
  },
  {
   "cell_type": "markdown",
   "id": "e88f7fb2",
   "metadata": {},
   "source": [
    "#### 결과)\n",
    "- #### model1의 정확도는 72.7%, model2의 정확도는 78.8%로 model2가 더 높다.\n",
    "- #### 혼동 행렬에서도 행렬의 TP 좌표(0,0)와 TN 좌표(1,1)의 절대값은 model1 (TP=83, TN=135), model2 (TP=118, TN=150)으로 model2가 크다."
   ]
  },
  {
   "cell_type": "markdown",
   "id": "b6940a39",
   "metadata": {},
   "source": [
    "- #### 마지막으로 시각화로 정확도를 비교해보기 위해 ROC 곡선을 그려 본다."
   ]
  },
  {
   "cell_type": "code",
   "execution_count": 14,
   "id": "95693ec0",
   "metadata": {},
   "outputs": [
    {
     "data": {
      "image/png": "[encoded data removed]",
      "text/plain": [
       "<Figure size 432x288 with 1 Axes>"
      ]
     },
     "metadata": {
      "needs_background": "light"
     },
     "output_type": "display_data"
    }
   ],
   "source": [
    "import matplotlib.pyplot as plt\n",
    "from sklearn.metrics import roc_curve, auc\n",
    "\n",
    "# ROC curve for the model with only \"study_hours\"\n",
    "roc_auc1 = auc(fpr1, tpr1)\n",
    "\n",
    "plt.plot(fpr1, tpr1, label='Model 1 ROC curve (area = %0.2f)' % roc_auc1)\n",
    "\n",
    "# ROC curve for the model with \"study_hours\" and \"sleep_hours\"\n",
    "roc_auc2 = auc(fpr2, tpr2)\n",
    "\n",
    "plt.plot(fpr2, tpr2, label='Model 2 ROC curve (area = %0.2f)' % roc_auc2)\n",
    "\n",
    "# Random guess line\n",
    "plt.plot([0, 1], [0, 1], linestyle='--', lw=2, color='r', label='Random guess')\n",
    "\n",
    "plt.xlim([0.0, 1.0])\n",
    "plt.ylim([0.0, 1.05])\n",
    "plt.xlabel('False Positive Rate')\n",
    "plt.ylabel('True Positive Rate')\n",
    "plt.title('Receiver Operating Characteristic (ROC) Curve')\n",
    "plt.legend(loc=\"lower right\")\n",
    "plt.show()"
   ]
  },
  {
   "cell_type": "markdown",
   "id": "faad4e4f",
   "metadata": {},
   "source": [
    "#### 해석)\n",
    "- #### model2이 model1qhek AUC가 더 높은 것을 위의 결과에서 알 수 있었고, 그래프에서 보듯이 ROC curve 또한 더 1에 가까운 값을 가진다.\n",
    "- #### 그러므로 model2의 예측 정확도가 높다."
   ]
  },
  {
   "cell_type": "markdown",
   "id": "657fe201",
   "metadata": {},
   "source": [
    "### 2) 랜덤포레스트(Random forest)\n",
    "- #### 랜덤포레스트는 의사결정나무(decision tree)를 여러 개 합쳐서 만든 알고리즘이다. "
   ]
  },
  {
   "cell_type": "code",
   "execution_count": 15,
   "id": "a6ebb56b",
   "metadata": {},
   "outputs": [
    {
     "name": "stdout",
     "output_type": "stream",
     "text": [
      "Accuracy: 0.8933333333333333\n"
     ]
    }
   ],
   "source": [
    "from sklearn.ensemble import RandomForestClassifier\n",
    "\n",
    "model3 = RandomForestClassifier(n_estimators=100, max_depth=5, random_state=42)\n",
    "model3.fit(X_train, y_train)\n",
    "predictions = model3.predict(X_test)\n",
    "accuracy = accuracy_score(y_test, predictions)\n",
    "fpr3, tpr3, thresholds3 = roc_curve(y_test, model3.predict_proba(X_test)[:, 1])\n",
    "\n",
    "print('Accuracy:', accuracy)"
   ]
  },
  {
   "cell_type": "code",
   "execution_count": 17,
   "id": "3f0690a9",
   "metadata": {},
   "outputs": [
    {
     "data": {
      "image/png": "[encoded data removed]",
      "text/plain": [
       "<Figure size 432x288 with 1 Axes>"
      ]
     },
     "metadata": {
      "needs_background": "light"
     },
     "output_type": "display_data"
    }
   ],
   "source": [
    "# ROC curve for the model with \"study_hours\" and \"sleep_hours\" with Random Forests\n",
    "roc_auc2 = auc(fpr2, tpr2)\n",
    "\n",
    "roc_auc3 = auc(fpr3, tpr3)\n",
    "\n",
    "plt.plot(fpr1, tpr1, label='Model 1 ROC curve (area = %0.2f)' % roc_auc1)\n",
    "plt.plot(fpr2, tpr2, label='Model 2 ROC curve (area = %0.2f)' % roc_auc2)\n",
    "plt.plot(fpr3, tpr3, label='Random Forest ROC curve (area = %0.2f)' % roc_auc3)\n",
    "\n",
    "\n",
    "# Random guess line\n",
    "plt.plot([0, 1], [0, 1], linestyle='--', lw=2, color='r', label='Random guess')\n",
    "\n",
    "plt.xlim([0.0, 1.0])\n",
    "plt.ylim([0.0, 1.05])\n",
    "plt.xlabel('False Positive Rate')\n",
    "plt.ylabel('True Positive Rate')\n",
    "plt.title('Receiver Operating Characteristic (ROC) Curve')\n",
    "plt.legend(loc=\"lower right\")\n",
    "plt.show()"
   ]
  },
  {
   "cell_type": "code",
   "execution_count": null,
   "id": "b706227e",
   "metadata": {},
   "outputs": [],
   "source": []
  }
 ],
 "metadata": {
  "kernelspec": {
   "display_name": "Python 3 (ipykernel)",
   "language": "python",
   "name": "python3"
  },
  "language_info": {
   "codemirror_mode": {
    "name": "ipython",
    "version": 3
   },
   "file_extension": ".py",
   "mimetype": "text/x-python",
   "name": "python",
   "nbconvert_exporter": "python",
   "pygments_lexer": "ipython3",
   "version": "3.9.12"
  }
 },
 "nbformat": 4,
 "nbformat_minor": 5
}
